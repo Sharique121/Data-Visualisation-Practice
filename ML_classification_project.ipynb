{
  "nbformat": 4,
  "nbformat_minor": 0,
  "metadata": {
    "colab": {
      "name": "ML_classification_project.ipynb",
      "provenance": [],
      "toc_visible": true,
      "include_colab_link": true
    },
    "kernelspec": {
      "name": "python3",
      "display_name": "Python 3"
    }
  },
  "cells": [
    {
      "cell_type": "markdown",
      "metadata": {
        "id": "view-in-github",
        "colab_type": "text"
      },
      "source": [
        "<a href=\"https://colab.research.google.com/github/Sharique121/Data-Visualisation-Practice/blob/master/ML_classification_project.ipynb\" target=\"_parent\"><img src=\"https://colab.research.google.com/assets/colab-badge.svg\" alt=\"Open In Colab\"/></a>"
      ]
    },
    {
      "cell_type": "markdown",
      "metadata": {
        "id": "BkDWmWM2tdM2",
        "colab_type": "text"
      },
      "source": [
        "# Data Description"
      ]
    },
    {
      "cell_type": "markdown",
      "metadata": {
        "id": "VbKTYNRrtsPB",
        "colab_type": "text"
      },
      "source": [
        "**Age:** Continuous; House holder’s age\n",
        "\n",
        "\n",
        "__Hours-per-week:__ Continuous; House holder’s working hours per week\n",
        "\n",
        "\n",
        "__Education_num:__ Continuous; House holder’s years of education\n",
        "\n",
        "\n",
        "__Capital-gain:__ Continuous; House holder’s investment income\n",
        "\n",
        "\n",
        "__Capital-loss:__ Continuous; House holder’s investment loss\n",
        "\n",
        "\n",
        "__Fnlwgt:__ Continuous; Estimated number of people in the population that the sample person represents in a specific reference period.\n",
        "\n",
        "\n",
        "__Workclass:__ Never-work, Without-pay, Private, Self-emp-not-inc, Self-emp-inc, Federal-gov, Local-gov, and State-gov.\n",
        "Education_categ Preschool, 1st-4th, 5th-6th, 7th-8th, 9th, 10th, 11th, 12th, HS-grad, Some-college, Assoc-voc, Assoc-acdm, Bachelors, Master, Prof-school, and Doctorate.\n",
        "\n",
        "\n",
        "__Marital-status:__ Never-married, Separated, Widowed, Divorced, Married-spouse-absent, Married-AF-spouse, Married-civ-spouse, and Married-AF-spouse.\n",
        "\n",
        "\n",
        "__Occupation:__ Tech-support, Craft-repair, Other-service, Sales, Exec-managerial, Prof-specialty, Handlers-cleaners, Machine-op-inspct, Adm-clerical, Farming-fishing, Transportmoving, Priv-house-serv, Protective-serv, and Armed-Forces.\n",
        "\n",
        "\n",
        "__Race:__ White, Asian-Pac-Islander, Amer-Indian-Eskimo, Other, and Black.\n",
        "\n",
        "\n",
        "__Relationship:__ Wife, Own-child, Husband, Not-in-family, Other-relative, and Unmarried\n",
        "\n",
        "\n",
        "__Sex:__ Female, and Male.\n",
        "\n",
        "\n",
        "__Native-country:__ United-States, Cambodia, England, Puerto-Rico, Canada, Germany, Outlying-US(Guam-USVI-etc), India, Japan, Greece, South, China, Cuba, Iran, Honduras,\n",
        "Philippines, Italy, Poland, Jamaica, Vietnam, Mexico, Portugal, Ireland, France, Dominican-Republic, Laos, Ecuador, Taiwan, Haiti, Columbia, Hungary, Guatemala,\n",
        "Nicaragua, Scotland, Thailand, Yugoslavia, El-Salvador, Trinadad & Tobago, Peru, Hong, and Holand-Netherlands.\n",
        "\n",
        "\n",
        "__Income:__ ≥50K, and <50K; Total money income of family"
      ]
    },
    {
      "cell_type": "markdown",
      "metadata": {
        "id": "FWi5rMJttwhw",
        "colab_type": "text"
      },
      "source": [
        "# Imports"
      ]
    },
    {
      "cell_type": "code",
      "metadata": {
        "id": "lPWGpNCSt0Hg",
        "colab_type": "code",
        "outputId": "d8f5df00-527c-40be-ec0a-049aa7ab16e5",
        "colab": {
          "base_uri": "https://localhost:8080/",
          "height": 89
        }
      },
      "source": [
        "import numpy as np\n",
        "import pandas as pd\n",
        "import matplotlib.pyplot as plt\n",
        "%matplotlib inline\n",
        "plt.rcParams[\"font.family\"] = 'arial'\n",
        "\n",
        "import seaborn as sns\n",
        "import pickle\n",
        "from sklearn.preprocessing import LabelEncoder\n",
        "from sklearn.preprocessing import Imputer\n",
        "from fancyimpute import KNN, NuclearNormMinimization, SoftImpute, IterativeImputer, BiScaler\n",
        "import math\n",
        "import warnings\n",
        "warnings.filterwarnings('ignore')"
      ],
      "execution_count": 0,
      "outputs": [
        {
          "output_type": "stream",
          "text": [
            "/usr/local/lib/python3.6/dist-packages/sklearn/externals/six.py:31: DeprecationWarning: The module is deprecated in version 0.21 and will be removed in version 0.23 since we've dropped support for Python 2.7. Please rely on the official version of six (https://pypi.org/project/six/).\n",
            "  \"(https://pypi.org/project/six/).\", DeprecationWarning)\n",
            "Using TensorFlow backend.\n"
          ],
          "name": "stderr"
        }
      ]
    },
    {
      "cell_type": "markdown",
      "metadata": {
        "id": "GwcgQuAQuJ3B",
        "colab_type": "text"
      },
      "source": [
        "# Reading File directly from the url "
      ]
    },
    {
      "cell_type": "code",
      "metadata": {
        "id": "DjnUCjCYuNzL",
        "colab_type": "code",
        "colab": {}
      },
      "source": [
        "# Parsing the csv files directly from the source\n",
        "train_df = pd.read_csv(\"https://archive.ics.uci.edu/ml/machine-learning-databases/adult/adult.data\",sep=\" *, *\",header=None,na_values=\"?\")\n",
        "test_df = pd.read_csv(\"https://archive.ics.uci.edu/ml/machine-learning-databases/adult/adult.test\",skiprows=1,sep=\" *, *\",header=None,na_values=\"?\")\n",
        "\n",
        "# Name of colums \n",
        "columns = [\"age\", \"workClass\", \"fnlwgt\", \"education\", \"education-num\",\"marital-status\", \"occupation\", \"relationship\",\n",
        "          \"race\", \"sex\", \"capital-gain\", \"capital-loss\", \"hours-per-week\", \"native-country\", \"income\"]\n",
        "\n",
        "# Assigning name of columns \n",
        "train_df.columns = columns\n",
        "test_df.columns = columns\n",
        "\n",
        "# Creating a data category to identify later which is our train set and test set \n",
        "train_df['data_category'] = 'train'\n",
        "test_df['data_category'] = 'test'\n",
        "\n",
        "# Concatenating Train and Test DF \n",
        "df = pd.concat([train_df, test_df])\n",
        "df.reset_index(drop=True, inplace=True)\n",
        "\n",
        "#Lower casing the columns names for ease of coding\n",
        "df.columns = map(str.lower, df.columns)"
      ],
      "execution_count": 0,
      "outputs": []
    },
    {
      "cell_type": "markdown",
      "metadata": {
        "id": "RjkSC2oqvvK-",
        "colab_type": "text"
      },
      "source": [
        "# EDA "
      ]
    },
    {
      "cell_type": "markdown",
      "metadata": {
        "id": "lE38tAZewVDo",
        "colab_type": "text"
      },
      "source": [
        "## checking with shape"
      ]
    },
    {
      "cell_type": "code",
      "metadata": {
        "id": "q0YwLN_yuWlX",
        "colab_type": "code",
        "outputId": "de575f5f-cd50-48d1-b7cf-9a9128dfe274",
        "colab": {
          "base_uri": "https://localhost:8080/",
          "height": 34
        }
      },
      "source": [
        "df.shape"
      ],
      "execution_count": 0,
      "outputs": [
        {
          "output_type": "execute_result",
          "data": {
            "text/plain": [
              "(48842, 16)"
            ]
          },
          "metadata": {
            "tags": []
          },
          "execution_count": 261
        }
      ]
    },
    {
      "cell_type": "markdown",
      "metadata": {
        "id": "LOym1KZxwed2",
        "colab_type": "text"
      },
      "source": [
        "## Checking null values"
      ]
    },
    {
      "cell_type": "code",
      "metadata": {
        "id": "MoPiuio7wFxd",
        "colab_type": "code",
        "outputId": "7b082dc6-fb31-42f9-ed21-988480ec7fd1",
        "colab": {
          "base_uri": "https://localhost:8080/",
          "height": 306
        }
      },
      "source": [
        "df.isnull().sum()"
      ],
      "execution_count": 0,
      "outputs": [
        {
          "output_type": "execute_result",
          "data": {
            "text/plain": [
              "age                  0\n",
              "workclass         2799\n",
              "fnlwgt               0\n",
              "education            0\n",
              "education-num        0\n",
              "marital-status       0\n",
              "occupation        2809\n",
              "relationship         0\n",
              "race                 0\n",
              "sex                  0\n",
              "capital-gain         0\n",
              "capital-loss         0\n",
              "hours-per-week       0\n",
              "native-country     857\n",
              "income               0\n",
              "data_category        0\n",
              "dtype: int64"
            ]
          },
          "metadata": {
            "tags": []
          },
          "execution_count": 262
        }
      ]
    },
    {
      "cell_type": "markdown",
      "metadata": {
        "id": "9bPpAL1dwp6G",
        "colab_type": "text"
      },
      "source": [
        "## Type of columns"
      ]
    },
    {
      "cell_type": "code",
      "metadata": {
        "id": "CcfWXOA6wnA9",
        "colab_type": "code",
        "outputId": "af43a14c-d39e-4d55-87f7-8fa8e3ae1d56",
        "colab": {
          "base_uri": "https://localhost:8080/",
          "height": 306
        }
      },
      "source": [
        "df.dtypes"
      ],
      "execution_count": 0,
      "outputs": [
        {
          "output_type": "execute_result",
          "data": {
            "text/plain": [
              "age                int64\n",
              "workclass         object\n",
              "fnlwgt             int64\n",
              "education         object\n",
              "education-num      int64\n",
              "marital-status    object\n",
              "occupation        object\n",
              "relationship      object\n",
              "race              object\n",
              "sex               object\n",
              "capital-gain       int64\n",
              "capital-loss       int64\n",
              "hours-per-week     int64\n",
              "native-country    object\n",
              "income            object\n",
              "data_category     object\n",
              "dtype: object"
            ]
          },
          "metadata": {
            "tags": []
          },
          "execution_count": 263
        }
      ]
    },
    {
      "cell_type": "markdown",
      "metadata": {
        "id": "1rpm-bRbwxI-",
        "colab_type": "text"
      },
      "source": [
        "## Distribution of Target Variable"
      ]
    },
    {
      "cell_type": "code",
      "metadata": {
        "id": "3881VnAtwtQF",
        "colab_type": "code",
        "outputId": "fc50111d-7521-4a50-b208-0c830d0e04ea",
        "colab": {
          "base_uri": "https://localhost:8080/",
          "height": 102
        }
      },
      "source": [
        "df['income'].value_counts()"
      ],
      "execution_count": 0,
      "outputs": [
        {
          "output_type": "execute_result",
          "data": {
            "text/plain": [
              "<=50K     24720\n",
              "<=50K.    12435\n",
              ">50K       7841\n",
              ">50K.      3846\n",
              "Name: income, dtype: int64"
            ]
          },
          "metadata": {
            "tags": []
          },
          "execution_count": 264
        }
      ]
    },
    {
      "cell_type": "markdown",
      "metadata": {
        "id": "xtGvMP6-w6Bn",
        "colab_type": "text"
      },
      "source": [
        "<b> Correcting target variable content </b>"
      ]
    },
    {
      "cell_type": "code",
      "metadata": {
        "id": "HVRHb3Zow0K7",
        "colab_type": "code",
        "colab": {}
      },
      "source": [
        "df.income = df['income'].replace(['<=50K.','>50K.'],['<=50K','>50K'])"
      ],
      "execution_count": 0,
      "outputs": []
    },
    {
      "cell_type": "code",
      "metadata": {
        "id": "yAaDjLa-w-GZ",
        "colab_type": "code",
        "outputId": "b65d891e-d594-4142-8939-382b85ab6f8e",
        "colab": {
          "base_uri": "https://localhost:8080/",
          "height": 68
        }
      },
      "source": [
        "df['income'].value_counts()"
      ],
      "execution_count": 0,
      "outputs": [
        {
          "output_type": "execute_result",
          "data": {
            "text/plain": [
              "<=50K    37155\n",
              ">50K     11687\n",
              "Name: income, dtype: int64"
            ]
          },
          "metadata": {
            "tags": []
          },
          "execution_count": 266
        }
      ]
    },
    {
      "cell_type": "markdown",
      "metadata": {
        "id": "lSWkXHLTyER8",
        "colab_type": "text"
      },
      "source": [
        "## Creating two target variables for easier EDA(opposite to eachother)"
      ]
    },
    {
      "cell_type": "code",
      "metadata": {
        "id": "ybETRC-gyFyi",
        "colab_type": "code",
        "outputId": "70f69fc0-866e-4eb3-9d18-4cb93b5a411a",
        "colab": {
          "base_uri": "https://localhost:8080/",
          "height": 394
        }
      },
      "source": [
        "df.head()"
      ],
      "execution_count": 0,
      "outputs": [
        {
          "output_type": "execute_result",
          "data": {
            "text/html": [
              "<div>\n",
              "<style scoped>\n",
              "    .dataframe tbody tr th:only-of-type {\n",
              "        vertical-align: middle;\n",
              "    }\n",
              "\n",
              "    .dataframe tbody tr th {\n",
              "        vertical-align: top;\n",
              "    }\n",
              "\n",
              "    .dataframe thead th {\n",
              "        text-align: right;\n",
              "    }\n",
              "</style>\n",
              "<table border=\"1\" class=\"dataframe\">\n",
              "  <thead>\n",
              "    <tr style=\"text-align: right;\">\n",
              "      <th></th>\n",
              "      <th>age</th>\n",
              "      <th>workclass</th>\n",
              "      <th>fnlwgt</th>\n",
              "      <th>education</th>\n",
              "      <th>education-num</th>\n",
              "      <th>marital-status</th>\n",
              "      <th>occupation</th>\n",
              "      <th>relationship</th>\n",
              "      <th>race</th>\n",
              "      <th>sex</th>\n",
              "      <th>capital-gain</th>\n",
              "      <th>capital-loss</th>\n",
              "      <th>hours-per-week</th>\n",
              "      <th>native-country</th>\n",
              "      <th>income</th>\n",
              "      <th>data_category</th>\n",
              "    </tr>\n",
              "  </thead>\n",
              "  <tbody>\n",
              "    <tr>\n",
              "      <th>0</th>\n",
              "      <td>39</td>\n",
              "      <td>State-gov</td>\n",
              "      <td>77516</td>\n",
              "      <td>Bachelors</td>\n",
              "      <td>13</td>\n",
              "      <td>Never-married</td>\n",
              "      <td>Adm-clerical</td>\n",
              "      <td>Not-in-family</td>\n",
              "      <td>White</td>\n",
              "      <td>Male</td>\n",
              "      <td>2174</td>\n",
              "      <td>0</td>\n",
              "      <td>40</td>\n",
              "      <td>United-States</td>\n",
              "      <td>&lt;=50K</td>\n",
              "      <td>train</td>\n",
              "    </tr>\n",
              "    <tr>\n",
              "      <th>1</th>\n",
              "      <td>50</td>\n",
              "      <td>Self-emp-not-inc</td>\n",
              "      <td>83311</td>\n",
              "      <td>Bachelors</td>\n",
              "      <td>13</td>\n",
              "      <td>Married-civ-spouse</td>\n",
              "      <td>Exec-managerial</td>\n",
              "      <td>Husband</td>\n",
              "      <td>White</td>\n",
              "      <td>Male</td>\n",
              "      <td>0</td>\n",
              "      <td>0</td>\n",
              "      <td>13</td>\n",
              "      <td>United-States</td>\n",
              "      <td>&lt;=50K</td>\n",
              "      <td>train</td>\n",
              "    </tr>\n",
              "    <tr>\n",
              "      <th>2</th>\n",
              "      <td>38</td>\n",
              "      <td>Private</td>\n",
              "      <td>215646</td>\n",
              "      <td>HS-grad</td>\n",
              "      <td>9</td>\n",
              "      <td>Divorced</td>\n",
              "      <td>Handlers-cleaners</td>\n",
              "      <td>Not-in-family</td>\n",
              "      <td>White</td>\n",
              "      <td>Male</td>\n",
              "      <td>0</td>\n",
              "      <td>0</td>\n",
              "      <td>40</td>\n",
              "      <td>United-States</td>\n",
              "      <td>&lt;=50K</td>\n",
              "      <td>train</td>\n",
              "    </tr>\n",
              "    <tr>\n",
              "      <th>3</th>\n",
              "      <td>53</td>\n",
              "      <td>Private</td>\n",
              "      <td>234721</td>\n",
              "      <td>11th</td>\n",
              "      <td>7</td>\n",
              "      <td>Married-civ-spouse</td>\n",
              "      <td>Handlers-cleaners</td>\n",
              "      <td>Husband</td>\n",
              "      <td>Black</td>\n",
              "      <td>Male</td>\n",
              "      <td>0</td>\n",
              "      <td>0</td>\n",
              "      <td>40</td>\n",
              "      <td>United-States</td>\n",
              "      <td>&lt;=50K</td>\n",
              "      <td>train</td>\n",
              "    </tr>\n",
              "    <tr>\n",
              "      <th>4</th>\n",
              "      <td>28</td>\n",
              "      <td>Private</td>\n",
              "      <td>338409</td>\n",
              "      <td>Bachelors</td>\n",
              "      <td>13</td>\n",
              "      <td>Married-civ-spouse</td>\n",
              "      <td>Prof-specialty</td>\n",
              "      <td>Wife</td>\n",
              "      <td>Black</td>\n",
              "      <td>Female</td>\n",
              "      <td>0</td>\n",
              "      <td>0</td>\n",
              "      <td>40</td>\n",
              "      <td>Cuba</td>\n",
              "      <td>&lt;=50K</td>\n",
              "      <td>train</td>\n",
              "    </tr>\n",
              "  </tbody>\n",
              "</table>\n",
              "</div>"
            ],
            "text/plain": [
              "   age         workclass  fnlwgt  ... native-country  income data_category\n",
              "0   39         State-gov   77516  ...  United-States   <=50K         train\n",
              "1   50  Self-emp-not-inc   83311  ...  United-States   <=50K         train\n",
              "2   38           Private  215646  ...  United-States   <=50K         train\n",
              "3   53           Private  234721  ...  United-States   <=50K         train\n",
              "4   28           Private  338409  ...           Cuba   <=50K         train\n",
              "\n",
              "[5 rows x 16 columns]"
            ]
          },
          "metadata": {
            "tags": []
          },
          "execution_count": 267
        }
      ]
    },
    {
      "cell_type": "code",
      "metadata": {
        "id": "DcBxALFsyJf0",
        "colab_type": "code",
        "colab": {}
      },
      "source": [
        "df['income>50K'] = np.where(df['income']=='>50K', 1, 0)\n",
        "df['income<50K'] = np.where(df['income']=='<=50K', 1, 0)"
      ],
      "execution_count": 0,
      "outputs": []
    },
    {
      "cell_type": "code",
      "metadata": {
        "id": "2Eqs244EyNaS",
        "colab_type": "code",
        "outputId": "c2489437-4908-40d5-80c4-41df3a52f00f",
        "colab": {
          "base_uri": "https://localhost:8080/",
          "height": 68
        }
      },
      "source": [
        "round(df['income>50K'].value_counts(normalize=True)*100,2)"
      ],
      "execution_count": 0,
      "outputs": [
        {
          "output_type": "execute_result",
          "data": {
            "text/plain": [
              "0    76.07\n",
              "1    23.93\n",
              "Name: income>50K, dtype: float64"
            ]
          },
          "metadata": {
            "tags": []
          },
          "execution_count": 269
        }
      ]
    },
    {
      "cell_type": "markdown",
      "metadata": {
        "id": "WtHOp0GHyg2m",
        "colab_type": "text"
      },
      "source": [
        "## Checking unique values in each categorical column"
      ]
    },
    {
      "cell_type": "code",
      "metadata": {
        "id": "VH2QbCvKyc5B",
        "colab_type": "code",
        "outputId": "2d4f2390-30ba-4502-d3f4-0452c27db80e",
        "colab": {
          "base_uri": "https://localhost:8080/",
          "height": 918
        }
      },
      "source": [
        "for i in df.columns:\n",
        "    if df[i].dtype == 'O':\n",
        "        print('\\nNumber of unique values in {} category: '.format(i), df[i].nunique())\n",
        "        print('Unique data in {} category:\\n'.format(i), df[i].unique())"
      ],
      "execution_count": 0,
      "outputs": [
        {
          "output_type": "stream",
          "text": [
            "\n",
            "Number of unique values in workclass category:  8\n",
            "Unique data in workclass category:\n",
            " ['State-gov' 'Self-emp-not-inc' 'Private' 'Federal-gov' 'Local-gov' nan\n",
            " 'Self-emp-inc' 'Without-pay' 'Never-worked']\n",
            "\n",
            "Number of unique values in education category:  16\n",
            "Unique data in education category:\n",
            " ['Bachelors' 'HS-grad' '11th' 'Masters' '9th' 'Some-college' 'Assoc-acdm'\n",
            " 'Assoc-voc' '7th-8th' 'Doctorate' 'Prof-school' '5th-6th' '10th'\n",
            " '1st-4th' 'Preschool' '12th']\n",
            "\n",
            "Number of unique values in marital-status category:  7\n",
            "Unique data in marital-status category:\n",
            " ['Never-married' 'Married-civ-spouse' 'Divorced' 'Married-spouse-absent'\n",
            " 'Separated' 'Married-AF-spouse' 'Widowed']\n",
            "\n",
            "Number of unique values in occupation category:  14\n",
            "Unique data in occupation category:\n",
            " ['Adm-clerical' 'Exec-managerial' 'Handlers-cleaners' 'Prof-specialty'\n",
            " 'Other-service' 'Sales' 'Craft-repair' 'Transport-moving'\n",
            " 'Farming-fishing' 'Machine-op-inspct' 'Tech-support' nan\n",
            " 'Protective-serv' 'Armed-Forces' 'Priv-house-serv']\n",
            "\n",
            "Number of unique values in relationship category:  6\n",
            "Unique data in relationship category:\n",
            " ['Not-in-family' 'Husband' 'Wife' 'Own-child' 'Unmarried' 'Other-relative']\n",
            "\n",
            "Number of unique values in race category:  5\n",
            "Unique data in race category:\n",
            " ['White' 'Black' 'Asian-Pac-Islander' 'Amer-Indian-Eskimo' 'Other']\n",
            "\n",
            "Number of unique values in sex category:  2\n",
            "Unique data in sex category:\n",
            " ['Male' 'Female']\n",
            "\n",
            "Number of unique values in native-country category:  41\n",
            "Unique data in native-country category:\n",
            " ['United-States' 'Cuba' 'Jamaica' 'India' nan 'Mexico' 'South'\n",
            " 'Puerto-Rico' 'Honduras' 'England' 'Canada' 'Germany' 'Iran'\n",
            " 'Philippines' 'Italy' 'Poland' 'Columbia' 'Cambodia' 'Thailand' 'Ecuador'\n",
            " 'Laos' 'Taiwan' 'Haiti' 'Portugal' 'Dominican-Republic' 'El-Salvador'\n",
            " 'France' 'Guatemala' 'China' 'Japan' 'Yugoslavia' 'Peru'\n",
            " 'Outlying-US(Guam-USVI-etc)' 'Scotland' 'Trinadad&Tobago' 'Greece'\n",
            " 'Nicaragua' 'Vietnam' 'Hong' 'Ireland' 'Hungary' 'Holand-Netherlands']\n",
            "\n",
            "Number of unique values in income category:  2\n",
            "Unique data in income category:\n",
            " ['<=50K' '>50K']\n",
            "\n",
            "Number of unique values in data_category category:  2\n",
            "Unique data in data_category category:\n",
            " ['train' 'test']\n"
          ],
          "name": "stdout"
        }
      ]
    },
    {
      "cell_type": "markdown",
      "metadata": {
        "id": "pIImL5f7yo-a",
        "colab_type": "text"
      },
      "source": [
        "##  Distribution of all variables"
      ]
    },
    {
      "cell_type": "code",
      "metadata": {
        "id": "AQdHew2oykm0",
        "colab_type": "code",
        "outputId": "c298e671-4e6e-4c43-abfe-b60cac023dcc",
        "colab": {
          "base_uri": "https://localhost:8080/",
          "height": 6075
        }
      },
      "source": [
        "for i in df.columns:\n",
        "    if df[i].dtype == 'O' and (i!='income'):\n",
        "        x,y,hue = i,'Percent','income'\n",
        "        hue_order = ['<=50K','>50K']\n",
        "\n",
        "        plt.figure(figsize=(16,5))\n",
        "        plt.subplot(1,2,1)\n",
        "        sns.countplot(x=x,hue=hue, data=df)\n",
        "        plt.xticks(rotation=45)\n",
        "\n",
        "        percent_df = (df[i].groupby(df[hue]).value_counts(normalize=True).rename(y).reset_index())\n",
        "        percent_df[y] = round(percent_df[y]*100,2)\n",
        "\n",
        "        plt.subplot(1,2,2)\n",
        "        sns.barplot(x=x, y=y, hue=hue, data=percent_df)\n",
        "        plt.xticks(rotation=45)\n",
        "        \n",
        "    elif i!='income':\n",
        "        plt.figure(figsize=(16,5))\n",
        "        plt.subplot(1,2,1)\n",
        "        plt.title(i)\n",
        "        sns.distplot(df[i], kde=False)\n",
        "        \n",
        "        plt.subplot(1,2,2)\n",
        "        sns.boxplot(df[i], y=df['income'], hue=df['income'])\n",
        "#         sns.violinplot(df[i], y=df['income'], hue=df['income'])\n",
        "        plt.title(i)"
      ],
      "execution_count": 0,
      "outputs": [
        {
          "output_type": "display_data",
          "data": {
            "image/png": "[encoded data removed]",
            "text/plain": [
              "<Figure size 1152x360 with 2 Axes>"
            ]
          },
          "metadata": {
            "tags": []
          }
        },
        {
          "output_type": "display_data",
          "data": {
            "image/png": "[encoded data removed]",
            "text/plain": [
              "<Figure size 1152x360 with 2 Axes>"
            ]
          },
          "metadata": {
            "tags": []
          }
        },
        {
          "output_type": "display_data",
          "data": {
            "image/png": "[encoded data removed]",
            "text/plain": [
              "<Figure size 1152x360 with 2 Axes>"
            ]
          },
          "metadata": {
            "tags": []
          }
        },
        {
          "output_type": "display_data",
          "data": {
            "image/png": "[encoded data removed]",
            "text/plain": [
              "<Figure size 1152x360 with 2 Axes>"
            ]
          },
          "metadata": {
            "tags": []
          }
        },
        {
          "output_type": "display_data",
          "data": {
            "image/png": "[encoded data removed]",
            "text/plain": [
              "<Figure size 1152x360 with 2 Axes>"
            ]
          },
          "metadata": {
            "tags": []
          }
        },
        {
          "output_type": "display_data",
          "data": {
            "image/png": "[encoded data removed]",
            "text/plain": [
              "<Figure size 1152x360 with 2 Axes>"
            ]
          },
          "metadata": {
            "tags": []
          }
        },
        {
          "output_type": "display_data",
          "data": {
            "image/png": "[encoded data removed]",
            "text/plain": [
              "<Figure size 1152x360 with 2 Axes>"
            ]
          },
          "metadata": {
            "tags": []
          }
        },
        {
          "output_type": "display_data",
          "data": {
            "image/png": "[encoded data removed]",
            "text/plain": [
              "<Figure size 1152x360 with 2 Axes>"
            ]
          },
          "metadata": {
            "tags": []
          }
        },
        {
          "output_type": "display_data",
          "data": {
            "image/png": "[encoded data removed]",
            "text/plain": [
              "<Figure size 1152x360 with 2 Axes>"
            ]
          },
          "metadata": {
            "tags": []
          }
        },
        {
          "output_type": "display_data",
          "data": {
            "image/png": "[encoded data removed]",
            "text/plain": [
              "<Figure size 1152x360 with 2 Axes>"
            ]
          },
          "metadata": {
            "tags": []
          }
        },
        {
          "output_type": "display_data",
          "data": {
            "image/png": "[encoded data removed]",
            "text/plain": [
              "<Figure size 1152x360 with 2 Axes>"
            ]
          },
          "metadata": {
            "tags": []
          }
        },
        {
          "output_type": "display_data",
          "data": {
            "image/png": "[encoded data removed]",
            "text/plain": [
              "<Figure size 1152x360 with 2 Axes>"
            ]
          },
          "metadata": {
            "tags": []
          }
        },
        {
          "output_type": "display_data",
          "data": {
            "image/png": "[encoded data removed]",
            "text/plain": [
              "<Figure size 1152x360 with 2 Axes>"
            ]
          },
          "metadata": {
            "tags": []
          }
        },
        {
          "output_type": "display_data",
          "data": {
            "image/png": "[encoded data removed]",
            "text/plain": [
              "<Figure size 1152x360 with 2 Axes>"
            ]
          },
          "metadata": {
            "tags": []
          }
        },
        {
          "output_type": "display_data",
          "data": {
            "image/png": "[encoded data removed]",
            "text/plain": [
              "<Figure size 1152x360 with 2 Axes>"
            ]
          },
          "metadata": {
            "tags": []
          }
        },
        {
          "output_type": "display_data",
          "data": {
            "image/png": "[encoded data removed]",
            "text/plain": [
              "<Figure size 1152x360 with 2 Axes>"
            ]
          },
          "metadata": {
            "tags": []
          }
        },
        {
          "output_type": "display_data",
          "data": {
            "image/png": "[encoded data removed]",
            "text/plain": [
              "<Figure size 1152x360 with 2 Axes>"
            ]
          },
          "metadata": {
            "tags": []
          }
        }
      ]
    },
    {
      "cell_type": "markdown",
      "metadata": {
        "id": "gDirCMIzzu0M",
        "colab_type": "text"
      },
      "source": [
        "# Feature Engineering"
      ]
    },
    {
      "cell_type": "code",
      "metadata": {
        "id": "kajGW9A58-Jp",
        "colab_type": "code",
        "outputId": "fcee7c66-6252-4d7f-abcd-a9040ebd292e",
        "colab": {
          "base_uri": "https://localhost:8080/",
          "height": 102
        }
      },
      "source": [
        "df.columns"
      ],
      "execution_count": 0,
      "outputs": [
        {
          "output_type": "execute_result",
          "data": {
            "text/plain": [
              "Index(['age', 'workclass', 'fnlwgt', 'education', 'education-num',\n",
              "       'marital-status', 'occupation', 'relationship', 'race', 'sex',\n",
              "       'capital-gain', 'capital-loss', 'hours-per-week', 'native-country',\n",
              "       'income', 'data_category', 'income>50K', 'income<50K'],\n",
              "      dtype='object')"
            ]
          },
          "metadata": {
            "tags": []
          },
          "execution_count": 272
        }
      ]
    },
    {
      "cell_type": "markdown",
      "metadata": {
        "id": "VeBlfxwg9Cl9",
        "colab_type": "text"
      },
      "source": [
        "## Workclass"
      ]
    },
    {
      "cell_type": "code",
      "metadata": {
        "id": "wRvas35A8-Te",
        "colab_type": "code",
        "outputId": "3b471cc1-2494-4987-af2d-328236773dbe",
        "colab": {
          "base_uri": "https://localhost:8080/",
          "height": 170
        }
      },
      "source": [
        "df['workclass'].value_counts()"
      ],
      "execution_count": 0,
      "outputs": [
        {
          "output_type": "execute_result",
          "data": {
            "text/plain": [
              "Private             33906\n",
              "Self-emp-not-inc     3862\n",
              "Local-gov            3136\n",
              "State-gov            1981\n",
              "Self-emp-inc         1695\n",
              "Federal-gov          1432\n",
              "Without-pay            21\n",
              "Never-worked           10\n",
              "Name: workclass, dtype: int64"
            ]
          },
          "metadata": {
            "tags": []
          },
          "execution_count": 273
        }
      ]
    },
    {
      "cell_type": "code",
      "metadata": {
        "id": "ciUjIsKP8-V5",
        "colab_type": "code",
        "outputId": "a7735e9b-702e-479b-bf4e-14e0cc132c9f",
        "colab": {
          "base_uri": "https://localhost:8080/",
          "height": 170
        }
      },
      "source": [
        "round(df['workclass'].value_counts(normalize=True)*100,2)\n"
      ],
      "execution_count": 0,
      "outputs": [
        {
          "output_type": "execute_result",
          "data": {
            "text/plain": [
              "Private             73.64\n",
              "Self-emp-not-inc     8.39\n",
              "Local-gov            6.81\n",
              "State-gov            4.30\n",
              "Self-emp-inc         3.68\n",
              "Federal-gov          3.11\n",
              "Without-pay          0.05\n",
              "Never-worked         0.02\n",
              "Name: workclass, dtype: float64"
            ]
          },
          "metadata": {
            "tags": []
          },
          "execution_count": 274
        }
      ]
    },
    {
      "cell_type": "code",
      "metadata": {
        "id": "cXmjtftp8-ZL",
        "colab_type": "code",
        "colab": {}
      },
      "source": [
        "work = df.groupby('workclass').agg({'income>50K':sum,'income<50K':sum})"
      ],
      "execution_count": 0,
      "outputs": []
    },
    {
      "cell_type": "code",
      "metadata": {
        "id": "MCkrPels9O7d",
        "colab_type": "code",
        "outputId": "8484dce3-176d-4549-9d20-e1a68e3c7bb6",
        "colab": {
          "base_uri": "https://localhost:8080/",
          "height": 328
        }
      },
      "source": [
        "work"
      ],
      "execution_count": 0,
      "outputs": [
        {
          "output_type": "execute_result",
          "data": {
            "text/html": [
              "<div>\n",
              "<style scoped>\n",
              "    .dataframe tbody tr th:only-of-type {\n",
              "        vertical-align: middle;\n",
              "    }\n",
              "\n",
              "    .dataframe tbody tr th {\n",
              "        vertical-align: top;\n",
              "    }\n",
              "\n",
              "    .dataframe thead th {\n",
              "        text-align: right;\n",
              "    }\n",
              "</style>\n",
              "<table border=\"1\" class=\"dataframe\">\n",
              "  <thead>\n",
              "    <tr style=\"text-align: right;\">\n",
              "      <th></th>\n",
              "      <th>income&gt;50K</th>\n",
              "      <th>income&lt;50K</th>\n",
              "    </tr>\n",
              "    <tr>\n",
              "      <th>workclass</th>\n",
              "      <th></th>\n",
              "      <th></th>\n",
              "    </tr>\n",
              "  </thead>\n",
              "  <tbody>\n",
              "    <tr>\n",
              "      <th>Federal-gov</th>\n",
              "      <td>561</td>\n",
              "      <td>871</td>\n",
              "    </tr>\n",
              "    <tr>\n",
              "      <th>Local-gov</th>\n",
              "      <td>927</td>\n",
              "      <td>2209</td>\n",
              "    </tr>\n",
              "    <tr>\n",
              "      <th>Never-worked</th>\n",
              "      <td>0</td>\n",
              "      <td>10</td>\n",
              "    </tr>\n",
              "    <tr>\n",
              "      <th>Private</th>\n",
              "      <td>7387</td>\n",
              "      <td>26519</td>\n",
              "    </tr>\n",
              "    <tr>\n",
              "      <th>Self-emp-inc</th>\n",
              "      <td>938</td>\n",
              "      <td>757</td>\n",
              "    </tr>\n",
              "    <tr>\n",
              "      <th>Self-emp-not-inc</th>\n",
              "      <td>1077</td>\n",
              "      <td>2785</td>\n",
              "    </tr>\n",
              "    <tr>\n",
              "      <th>State-gov</th>\n",
              "      <td>530</td>\n",
              "      <td>1451</td>\n",
              "    </tr>\n",
              "    <tr>\n",
              "      <th>Without-pay</th>\n",
              "      <td>2</td>\n",
              "      <td>19</td>\n",
              "    </tr>\n",
              "  </tbody>\n",
              "</table>\n",
              "</div>"
            ],
            "text/plain": [
              "                  income>50K  income<50K\n",
              "workclass                               \n",
              "Federal-gov              561         871\n",
              "Local-gov                927        2209\n",
              "Never-worked               0          10\n",
              "Private                 7387       26519\n",
              "Self-emp-inc             938         757\n",
              "Self-emp-not-inc        1077        2785\n",
              "State-gov                530        1451\n",
              "Without-pay                2          19"
            ]
          },
          "metadata": {
            "tags": []
          },
          "execution_count": 276
        }
      ]
    },
    {
      "cell_type": "code",
      "metadata": {
        "id": "zKqTD41Z9Q7z",
        "colab_type": "code",
        "colab": {}
      },
      "source": [
        "work['>50K_percent_of_total_in_group'] = round((work['income>50K']/(work['income>50K']+work['income<50K']))*100,2)"
      ],
      "execution_count": 0,
      "outputs": []
    },
    {
      "cell_type": "code",
      "metadata": {
        "id": "EaNp1Ltz9VlB",
        "colab_type": "code",
        "outputId": "77a3ed2c-5583-4341-95f2-71c3fef2c5fd",
        "colab": {
          "base_uri": "https://localhost:8080/",
          "height": 328
        }
      },
      "source": [
        "work"
      ],
      "execution_count": 0,
      "outputs": [
        {
          "output_type": "execute_result",
          "data": {
            "text/html": [
              "<div>\n",
              "<style scoped>\n",
              "    .dataframe tbody tr th:only-of-type {\n",
              "        vertical-align: middle;\n",
              "    }\n",
              "\n",
              "    .dataframe tbody tr th {\n",
              "        vertical-align: top;\n",
              "    }\n",
              "\n",
              "    .dataframe thead th {\n",
              "        text-align: right;\n",
              "    }\n",
              "</style>\n",
              "<table border=\"1\" class=\"dataframe\">\n",
              "  <thead>\n",
              "    <tr style=\"text-align: right;\">\n",
              "      <th></th>\n",
              "      <th>income&gt;50K</th>\n",
              "      <th>income&lt;50K</th>\n",
              "      <th>&gt;50K_percent_of_total_in_group</th>\n",
              "    </tr>\n",
              "    <tr>\n",
              "      <th>workclass</th>\n",
              "      <th></th>\n",
              "      <th></th>\n",
              "      <th></th>\n",
              "    </tr>\n",
              "  </thead>\n",
              "  <tbody>\n",
              "    <tr>\n",
              "      <th>Federal-gov</th>\n",
              "      <td>561</td>\n",
              "      <td>871</td>\n",
              "      <td>39.18</td>\n",
              "    </tr>\n",
              "    <tr>\n",
              "      <th>Local-gov</th>\n",
              "      <td>927</td>\n",
              "      <td>2209</td>\n",
              "      <td>29.56</td>\n",
              "    </tr>\n",
              "    <tr>\n",
              "      <th>Never-worked</th>\n",
              "      <td>0</td>\n",
              "      <td>10</td>\n",
              "      <td>0.00</td>\n",
              "    </tr>\n",
              "    <tr>\n",
              "      <th>Private</th>\n",
              "      <td>7387</td>\n",
              "      <td>26519</td>\n",
              "      <td>21.79</td>\n",
              "    </tr>\n",
              "    <tr>\n",
              "      <th>Self-emp-inc</th>\n",
              "      <td>938</td>\n",
              "      <td>757</td>\n",
              "      <td>55.34</td>\n",
              "    </tr>\n",
              "    <tr>\n",
              "      <th>Self-emp-not-inc</th>\n",
              "      <td>1077</td>\n",
              "      <td>2785</td>\n",
              "      <td>27.89</td>\n",
              "    </tr>\n",
              "    <tr>\n",
              "      <th>State-gov</th>\n",
              "      <td>530</td>\n",
              "      <td>1451</td>\n",
              "      <td>26.75</td>\n",
              "    </tr>\n",
              "    <tr>\n",
              "      <th>Without-pay</th>\n",
              "      <td>2</td>\n",
              "      <td>19</td>\n",
              "      <td>9.52</td>\n",
              "    </tr>\n",
              "  </tbody>\n",
              "</table>\n",
              "</div>"
            ],
            "text/plain": [
              "                  income>50K  income<50K  >50K_percent_of_total_in_group\n",
              "workclass                                                               \n",
              "Federal-gov              561         871                           39.18\n",
              "Local-gov                927        2209                           29.56\n",
              "Never-worked               0          10                            0.00\n",
              "Private                 7387       26519                           21.79\n",
              "Self-emp-inc             938         757                           55.34\n",
              "Self-emp-not-inc        1077        2785                           27.89\n",
              "State-gov                530        1451                           26.75\n",
              "Without-pay                2          19                            9.52"
            ]
          },
          "metadata": {
            "tags": []
          },
          "execution_count": 278
        }
      ]
    },
    {
      "cell_type": "code",
      "metadata": {
        "id": "YH6PBATT9XMZ",
        "colab_type": "code",
        "outputId": "a9816b66-7805-406c-8901-da8ee603da74",
        "colab": {
          "base_uri": "https://localhost:8080/",
          "height": 136
        }
      },
      "source": [
        "df['workclass'].replace(['Local-gov','State-gov'],'local_gov', inplace=True)\n",
        "\n",
        "df['workclass'].replace(['Never-worked'],['Without-pay'], inplace=True)\n",
        "\n",
        "df['workclass'].value_counts()"
      ],
      "execution_count": 0,
      "outputs": [
        {
          "output_type": "execute_result",
          "data": {
            "text/plain": [
              "Private             33906\n",
              "local_gov            5117\n",
              "Self-emp-not-inc     3862\n",
              "Self-emp-inc         1695\n",
              "Federal-gov          1432\n",
              "Without-pay            31\n",
              "Name: workclass, dtype: int64"
            ]
          },
          "metadata": {
            "tags": []
          },
          "execution_count": 279
        }
      ]
    },
    {
      "cell_type": "code",
      "metadata": {
        "id": "4qjq3fGd9eCT",
        "colab_type": "code",
        "outputId": "e304e6bf-5976-4055-fcec-44843d7a9bbc",
        "colab": {
          "base_uri": "https://localhost:8080/",
          "height": 545
        }
      },
      "source": [
        "edu = df.groupby(['education','education-num']).agg({'income>50K':sum,'income<50K':sum}).sort_values(by=['education-num'], ascending=False).reset_index()\n",
        "edu"
      ],
      "execution_count": 0,
      "outputs": [
        {
          "output_type": "execute_result",
          "data": {
            "text/html": [
              "<div>\n",
              "<style scoped>\n",
              "    .dataframe tbody tr th:only-of-type {\n",
              "        vertical-align: middle;\n",
              "    }\n",
              "\n",
              "    .dataframe tbody tr th {\n",
              "        vertical-align: top;\n",
              "    }\n",
              "\n",
              "    .dataframe thead th {\n",
              "        text-align: right;\n",
              "    }\n",
              "</style>\n",
              "<table border=\"1\" class=\"dataframe\">\n",
              "  <thead>\n",
              "    <tr style=\"text-align: right;\">\n",
              "      <th></th>\n",
              "      <th>education</th>\n",
              "      <th>education-num</th>\n",
              "      <th>income&gt;50K</th>\n",
              "      <th>income&lt;50K</th>\n",
              "    </tr>\n",
              "  </thead>\n",
              "  <tbody>\n",
              "    <tr>\n",
              "      <th>0</th>\n",
              "      <td>Doctorate</td>\n",
              "      <td>16</td>\n",
              "      <td>431</td>\n",
              "      <td>163</td>\n",
              "    </tr>\n",
              "    <tr>\n",
              "      <th>1</th>\n",
              "      <td>Prof-school</td>\n",
              "      <td>15</td>\n",
              "      <td>617</td>\n",
              "      <td>217</td>\n",
              "    </tr>\n",
              "    <tr>\n",
              "      <th>2</th>\n",
              "      <td>Masters</td>\n",
              "      <td>14</td>\n",
              "      <td>1459</td>\n",
              "      <td>1198</td>\n",
              "    </tr>\n",
              "    <tr>\n",
              "      <th>3</th>\n",
              "      <td>Bachelors</td>\n",
              "      <td>13</td>\n",
              "      <td>3313</td>\n",
              "      <td>4712</td>\n",
              "    </tr>\n",
              "    <tr>\n",
              "      <th>4</th>\n",
              "      <td>Assoc-acdm</td>\n",
              "      <td>12</td>\n",
              "      <td>413</td>\n",
              "      <td>1188</td>\n",
              "    </tr>\n",
              "    <tr>\n",
              "      <th>5</th>\n",
              "      <td>Assoc-voc</td>\n",
              "      <td>11</td>\n",
              "      <td>522</td>\n",
              "      <td>1539</td>\n",
              "    </tr>\n",
              "    <tr>\n",
              "      <th>6</th>\n",
              "      <td>Some-college</td>\n",
              "      <td>10</td>\n",
              "      <td>2063</td>\n",
              "      <td>8815</td>\n",
              "    </tr>\n",
              "    <tr>\n",
              "      <th>7</th>\n",
              "      <td>HS-grad</td>\n",
              "      <td>9</td>\n",
              "      <td>2503</td>\n",
              "      <td>13281</td>\n",
              "    </tr>\n",
              "    <tr>\n",
              "      <th>8</th>\n",
              "      <td>12th</td>\n",
              "      <td>8</td>\n",
              "      <td>48</td>\n",
              "      <td>609</td>\n",
              "    </tr>\n",
              "    <tr>\n",
              "      <th>9</th>\n",
              "      <td>11th</td>\n",
              "      <td>7</td>\n",
              "      <td>92</td>\n",
              "      <td>1720</td>\n",
              "    </tr>\n",
              "    <tr>\n",
              "      <th>10</th>\n",
              "      <td>10th</td>\n",
              "      <td>6</td>\n",
              "      <td>87</td>\n",
              "      <td>1302</td>\n",
              "    </tr>\n",
              "    <tr>\n",
              "      <th>11</th>\n",
              "      <td>9th</td>\n",
              "      <td>5</td>\n",
              "      <td>41</td>\n",
              "      <td>715</td>\n",
              "    </tr>\n",
              "    <tr>\n",
              "      <th>12</th>\n",
              "      <td>7th-8th</td>\n",
              "      <td>4</td>\n",
              "      <td>62</td>\n",
              "      <td>893</td>\n",
              "    </tr>\n",
              "    <tr>\n",
              "      <th>13</th>\n",
              "      <td>5th-6th</td>\n",
              "      <td>3</td>\n",
              "      <td>27</td>\n",
              "      <td>482</td>\n",
              "    </tr>\n",
              "    <tr>\n",
              "      <th>14</th>\n",
              "      <td>1st-4th</td>\n",
              "      <td>2</td>\n",
              "      <td>8</td>\n",
              "      <td>239</td>\n",
              "    </tr>\n",
              "    <tr>\n",
              "      <th>15</th>\n",
              "      <td>Preschool</td>\n",
              "      <td>1</td>\n",
              "      <td>1</td>\n",
              "      <td>82</td>\n",
              "    </tr>\n",
              "  </tbody>\n",
              "</table>\n",
              "</div>"
            ],
            "text/plain": [
              "       education  education-num  income>50K  income<50K\n",
              "0      Doctorate             16         431         163\n",
              "1    Prof-school             15         617         217\n",
              "2        Masters             14        1459        1198\n",
              "3      Bachelors             13        3313        4712\n",
              "4     Assoc-acdm             12         413        1188\n",
              "5      Assoc-voc             11         522        1539\n",
              "6   Some-college             10        2063        8815\n",
              "7        HS-grad              9        2503       13281\n",
              "8           12th              8          48         609\n",
              "9           11th              7          92        1720\n",
              "10          10th              6          87        1302\n",
              "11           9th              5          41         715\n",
              "12       7th-8th              4          62         893\n",
              "13       5th-6th              3          27         482\n",
              "14       1st-4th              2           8         239\n",
              "15     Preschool              1           1          82"
            ]
          },
          "metadata": {
            "tags": []
          },
          "execution_count": 280
        }
      ]
    },
    {
      "cell_type": "code",
      "metadata": {
        "id": "GRPS4yeu9sWx",
        "colab_type": "code",
        "outputId": "434737fd-53e3-48e4-ca0e-33472b3661b1",
        "colab": {
          "base_uri": "https://localhost:8080/",
          "height": 545
        }
      },
      "source": [
        "edu['>50K_percent_of_total_in_group'] = round((edu['income>50K']/(edu['income>50K']+edu['income<50K']))*100,2)\n",
        "edu"
      ],
      "execution_count": 0,
      "outputs": [
        {
          "output_type": "execute_result",
          "data": {
            "text/html": [
              "<div>\n",
              "<style scoped>\n",
              "    .dataframe tbody tr th:only-of-type {\n",
              "        vertical-align: middle;\n",
              "    }\n",
              "\n",
              "    .dataframe tbody tr th {\n",
              "        vertical-align: top;\n",
              "    }\n",
              "\n",
              "    .dataframe thead th {\n",
              "        text-align: right;\n",
              "    }\n",
              "</style>\n",
              "<table border=\"1\" class=\"dataframe\">\n",
              "  <thead>\n",
              "    <tr style=\"text-align: right;\">\n",
              "      <th></th>\n",
              "      <th>education</th>\n",
              "      <th>education-num</th>\n",
              "      <th>income&gt;50K</th>\n",
              "      <th>income&lt;50K</th>\n",
              "      <th>&gt;50K_percent_of_total_in_group</th>\n",
              "    </tr>\n",
              "  </thead>\n",
              "  <tbody>\n",
              "    <tr>\n",
              "      <th>0</th>\n",
              "      <td>Doctorate</td>\n",
              "      <td>16</td>\n",
              "      <td>431</td>\n",
              "      <td>163</td>\n",
              "      <td>72.56</td>\n",
              "    </tr>\n",
              "    <tr>\n",
              "      <th>1</th>\n",
              "      <td>Prof-school</td>\n",
              "      <td>15</td>\n",
              "      <td>617</td>\n",
              "      <td>217</td>\n",
              "      <td>73.98</td>\n",
              "    </tr>\n",
              "    <tr>\n",
              "      <th>2</th>\n",
              "      <td>Masters</td>\n",
              "      <td>14</td>\n",
              "      <td>1459</td>\n",
              "      <td>1198</td>\n",
              "      <td>54.91</td>\n",
              "    </tr>\n",
              "    <tr>\n",
              "      <th>3</th>\n",
              "      <td>Bachelors</td>\n",
              "      <td>13</td>\n",
              "      <td>3313</td>\n",
              "      <td>4712</td>\n",
              "      <td>41.28</td>\n",
              "    </tr>\n",
              "    <tr>\n",
              "      <th>4</th>\n",
              "      <td>Assoc-acdm</td>\n",
              "      <td>12</td>\n",
              "      <td>413</td>\n",
              "      <td>1188</td>\n",
              "      <td>25.80</td>\n",
              "    </tr>\n",
              "    <tr>\n",
              "      <th>5</th>\n",
              "      <td>Assoc-voc</td>\n",
              "      <td>11</td>\n",
              "      <td>522</td>\n",
              "      <td>1539</td>\n",
              "      <td>25.33</td>\n",
              "    </tr>\n",
              "    <tr>\n",
              "      <th>6</th>\n",
              "      <td>Some-college</td>\n",
              "      <td>10</td>\n",
              "      <td>2063</td>\n",
              "      <td>8815</td>\n",
              "      <td>18.96</td>\n",
              "    </tr>\n",
              "    <tr>\n",
              "      <th>7</th>\n",
              "      <td>HS-grad</td>\n",
              "      <td>9</td>\n",
              "      <td>2503</td>\n",
              "      <td>13281</td>\n",
              "      <td>15.86</td>\n",
              "    </tr>\n",
              "    <tr>\n",
              "      <th>8</th>\n",
              "      <td>12th</td>\n",
              "      <td>8</td>\n",
              "      <td>48</td>\n",
              "      <td>609</td>\n",
              "      <td>7.31</td>\n",
              "    </tr>\n",
              "    <tr>\n",
              "      <th>9</th>\n",
              "      <td>11th</td>\n",
              "      <td>7</td>\n",
              "      <td>92</td>\n",
              "      <td>1720</td>\n",
              "      <td>5.08</td>\n",
              "    </tr>\n",
              "    <tr>\n",
              "      <th>10</th>\n",
              "      <td>10th</td>\n",
              "      <td>6</td>\n",
              "      <td>87</td>\n",
              "      <td>1302</td>\n",
              "      <td>6.26</td>\n",
              "    </tr>\n",
              "    <tr>\n",
              "      <th>11</th>\n",
              "      <td>9th</td>\n",
              "      <td>5</td>\n",
              "      <td>41</td>\n",
              "      <td>715</td>\n",
              "      <td>5.42</td>\n",
              "    </tr>\n",
              "    <tr>\n",
              "      <th>12</th>\n",
              "      <td>7th-8th</td>\n",
              "      <td>4</td>\n",
              "      <td>62</td>\n",
              "      <td>893</td>\n",
              "      <td>6.49</td>\n",
              "    </tr>\n",
              "    <tr>\n",
              "      <th>13</th>\n",
              "      <td>5th-6th</td>\n",
              "      <td>3</td>\n",
              "      <td>27</td>\n",
              "      <td>482</td>\n",
              "      <td>5.30</td>\n",
              "    </tr>\n",
              "    <tr>\n",
              "      <th>14</th>\n",
              "      <td>1st-4th</td>\n",
              "      <td>2</td>\n",
              "      <td>8</td>\n",
              "      <td>239</td>\n",
              "      <td>3.24</td>\n",
              "    </tr>\n",
              "    <tr>\n",
              "      <th>15</th>\n",
              "      <td>Preschool</td>\n",
              "      <td>1</td>\n",
              "      <td>1</td>\n",
              "      <td>82</td>\n",
              "      <td>1.20</td>\n",
              "    </tr>\n",
              "  </tbody>\n",
              "</table>\n",
              "</div>"
            ],
            "text/plain": [
              "       education  education-num  ...  income<50K  >50K_percent_of_total_in_group\n",
              "0      Doctorate             16  ...         163                           72.56\n",
              "1    Prof-school             15  ...         217                           73.98\n",
              "2        Masters             14  ...        1198                           54.91\n",
              "3      Bachelors             13  ...        4712                           41.28\n",
              "4     Assoc-acdm             12  ...        1188                           25.80\n",
              "5      Assoc-voc             11  ...        1539                           25.33\n",
              "6   Some-college             10  ...        8815                           18.96\n",
              "7        HS-grad              9  ...       13281                           15.86\n",
              "8           12th              8  ...         609                            7.31\n",
              "9           11th              7  ...        1720                            5.08\n",
              "10          10th              6  ...        1302                            6.26\n",
              "11           9th              5  ...         715                            5.42\n",
              "12       7th-8th              4  ...         893                            6.49\n",
              "13       5th-6th              3  ...         482                            5.30\n",
              "14       1st-4th              2  ...         239                            3.24\n",
              "15     Preschool              1  ...          82                            1.20\n",
              "\n",
              "[16 rows x 5 columns]"
            ]
          },
          "metadata": {
            "tags": []
          },
          "execution_count": 281
        }
      ]
    },
    {
      "cell_type": "code",
      "metadata": {
        "id": "IAqRdNVb95Za",
        "colab_type": "code",
        "outputId": "32320823-dd77-435b-c798-b7455e7196fd",
        "colab": {
          "base_uri": "https://localhost:8080/",
          "height": 68
        }
      },
      "source": [
        "edu['education'].unique()"
      ],
      "execution_count": 0,
      "outputs": [
        {
          "output_type": "execute_result",
          "data": {
            "text/plain": [
              "array(['Doctorate', 'Prof-school', 'Masters', 'Bachelors', 'Assoc-acdm',\n",
              "       'Assoc-voc', 'Some-college', 'HS-grad', '12th', '11th', '10th',\n",
              "       '9th', '7th-8th', '5th-6th', '1st-4th', 'Preschool'], dtype=object)"
            ]
          },
          "metadata": {
            "tags": []
          },
          "execution_count": 282
        }
      ]
    },
    {
      "cell_type": "code",
      "metadata": {
        "id": "CgZSXb7L95bw",
        "colab_type": "code",
        "colab": {}
      },
      "source": [
        "df['education'].replace(['12th', '11th', '10th','9th', '7th-8th', '5th-6th', '1st-4th', 'Preschool'],'dropout', inplace=True)"
      ],
      "execution_count": 0,
      "outputs": []
    },
    {
      "cell_type": "code",
      "metadata": {
        "id": "M5BwlVK699UB",
        "colab_type": "code",
        "outputId": "64133faf-d168-4c0c-dc7d-5bb2e39c50d4",
        "colab": {
          "base_uri": "https://localhost:8080/",
          "height": 187
        }
      },
      "source": [
        "df['education'].value_counts()"
      ],
      "execution_count": 0,
      "outputs": [
        {
          "output_type": "execute_result",
          "data": {
            "text/plain": [
              "HS-grad         15784\n",
              "Some-college    10878\n",
              "Bachelors        8025\n",
              "dropout          6408\n",
              "Masters          2657\n",
              "Assoc-voc        2061\n",
              "Assoc-acdm       1601\n",
              "Prof-school       834\n",
              "Doctorate         594\n",
              "Name: education, dtype: int64"
            ]
          },
          "metadata": {
            "tags": []
          },
          "execution_count": 284
        }
      ]
    },
    {
      "cell_type": "markdown",
      "metadata": {
        "id": "MaCHGj8l-B86",
        "colab_type": "text"
      },
      "source": [
        "## Marital-Status\n"
      ]
    },
    {
      "cell_type": "code",
      "metadata": {
        "id": "ewpgM-Bk9_lh",
        "colab_type": "code",
        "outputId": "c843a282-aec0-4648-bf58-5271842dcf1e",
        "colab": {
          "base_uri": "https://localhost:8080/",
          "height": 153
        }
      },
      "source": [
        "df['marital-status'].value_counts()\n"
      ],
      "execution_count": 0,
      "outputs": [
        {
          "output_type": "execute_result",
          "data": {
            "text/plain": [
              "Married-civ-spouse       22379\n",
              "Never-married            16117\n",
              "Divorced                  6633\n",
              "Separated                 1530\n",
              "Widowed                   1518\n",
              "Married-spouse-absent      628\n",
              "Married-AF-spouse           37\n",
              "Name: marital-status, dtype: int64"
            ]
          },
          "metadata": {
            "tags": []
          },
          "execution_count": 285
        }
      ]
    },
    {
      "cell_type": "code",
      "metadata": {
        "id": "ZS6aFkqZ-FzE",
        "colab_type": "code",
        "outputId": "d73ed830-c549-4f3d-b7fa-07388053618a",
        "colab": {
          "base_uri": "https://localhost:8080/",
          "height": 266
        }
      },
      "source": [
        "ms = df.groupby(['marital-status']).agg({'income>50K':sum,'income<50K':sum}).sort_values(by=['income>50K'], ascending=False).reset_index()\n",
        "ms"
      ],
      "execution_count": 0,
      "outputs": [
        {
          "output_type": "execute_result",
          "data": {
            "text/html": [
              "<div>\n",
              "<style scoped>\n",
              "    .dataframe tbody tr th:only-of-type {\n",
              "        vertical-align: middle;\n",
              "    }\n",
              "\n",
              "    .dataframe tbody tr th {\n",
              "        vertical-align: top;\n",
              "    }\n",
              "\n",
              "    .dataframe thead th {\n",
              "        text-align: right;\n",
              "    }\n",
              "</style>\n",
              "<table border=\"1\" class=\"dataframe\">\n",
              "  <thead>\n",
              "    <tr style=\"text-align: right;\">\n",
              "      <th></th>\n",
              "      <th>marital-status</th>\n",
              "      <th>income&gt;50K</th>\n",
              "      <th>income&lt;50K</th>\n",
              "    </tr>\n",
              "  </thead>\n",
              "  <tbody>\n",
              "    <tr>\n",
              "      <th>0</th>\n",
              "      <td>Married-civ-spouse</td>\n",
              "      <td>9984</td>\n",
              "      <td>12395</td>\n",
              "    </tr>\n",
              "    <tr>\n",
              "      <th>1</th>\n",
              "      <td>Never-married</td>\n",
              "      <td>733</td>\n",
              "      <td>15384</td>\n",
              "    </tr>\n",
              "    <tr>\n",
              "      <th>2</th>\n",
              "      <td>Divorced</td>\n",
              "      <td>671</td>\n",
              "      <td>5962</td>\n",
              "    </tr>\n",
              "    <tr>\n",
              "      <th>3</th>\n",
              "      <td>Widowed</td>\n",
              "      <td>128</td>\n",
              "      <td>1390</td>\n",
              "    </tr>\n",
              "    <tr>\n",
              "      <th>4</th>\n",
              "      <td>Separated</td>\n",
              "      <td>99</td>\n",
              "      <td>1431</td>\n",
              "    </tr>\n",
              "    <tr>\n",
              "      <th>5</th>\n",
              "      <td>Married-spouse-absent</td>\n",
              "      <td>58</td>\n",
              "      <td>570</td>\n",
              "    </tr>\n",
              "    <tr>\n",
              "      <th>6</th>\n",
              "      <td>Married-AF-spouse</td>\n",
              "      <td>14</td>\n",
              "      <td>23</td>\n",
              "    </tr>\n",
              "  </tbody>\n",
              "</table>\n",
              "</div>"
            ],
            "text/plain": [
              "          marital-status  income>50K  income<50K\n",
              "0     Married-civ-spouse        9984       12395\n",
              "1          Never-married         733       15384\n",
              "2               Divorced         671        5962\n",
              "3                Widowed         128        1390\n",
              "4              Separated          99        1431\n",
              "5  Married-spouse-absent          58         570\n",
              "6      Married-AF-spouse          14          23"
            ]
          },
          "metadata": {
            "tags": []
          },
          "execution_count": 286
        }
      ]
    },
    {
      "cell_type": "code",
      "metadata": {
        "id": "r3s5wUeL-F15",
        "colab_type": "code",
        "outputId": "28da3d3d-7979-4f8a-aca0-c7cb3dcfae8e",
        "colab": {
          "base_uri": "https://localhost:8080/",
          "height": 266
        }
      },
      "source": [
        "ms['>50K_percent_of_total_in_group'] = round((ms['income>50K']/(ms['income>50K']+ms['income<50K']))*100,2)\n",
        "ms"
      ],
      "execution_count": 0,
      "outputs": [
        {
          "output_type": "execute_result",
          "data": {
            "text/html": [
              "<div>\n",
              "<style scoped>\n",
              "    .dataframe tbody tr th:only-of-type {\n",
              "        vertical-align: middle;\n",
              "    }\n",
              "\n",
              "    .dataframe tbody tr th {\n",
              "        vertical-align: top;\n",
              "    }\n",
              "\n",
              "    .dataframe thead th {\n",
              "        text-align: right;\n",
              "    }\n",
              "</style>\n",
              "<table border=\"1\" class=\"dataframe\">\n",
              "  <thead>\n",
              "    <tr style=\"text-align: right;\">\n",
              "      <th></th>\n",
              "      <th>marital-status</th>\n",
              "      <th>income&gt;50K</th>\n",
              "      <th>income&lt;50K</th>\n",
              "      <th>&gt;50K_percent_of_total_in_group</th>\n",
              "    </tr>\n",
              "  </thead>\n",
              "  <tbody>\n",
              "    <tr>\n",
              "      <th>0</th>\n",
              "      <td>Married-civ-spouse</td>\n",
              "      <td>9984</td>\n",
              "      <td>12395</td>\n",
              "      <td>44.61</td>\n",
              "    </tr>\n",
              "    <tr>\n",
              "      <th>1</th>\n",
              "      <td>Never-married</td>\n",
              "      <td>733</td>\n",
              "      <td>15384</td>\n",
              "      <td>4.55</td>\n",
              "    </tr>\n",
              "    <tr>\n",
              "      <th>2</th>\n",
              "      <td>Divorced</td>\n",
              "      <td>671</td>\n",
              "      <td>5962</td>\n",
              "      <td>10.12</td>\n",
              "    </tr>\n",
              "    <tr>\n",
              "      <th>3</th>\n",
              "      <td>Widowed</td>\n",
              "      <td>128</td>\n",
              "      <td>1390</td>\n",
              "      <td>8.43</td>\n",
              "    </tr>\n",
              "    <tr>\n",
              "      <th>4</th>\n",
              "      <td>Separated</td>\n",
              "      <td>99</td>\n",
              "      <td>1431</td>\n",
              "      <td>6.47</td>\n",
              "    </tr>\n",
              "    <tr>\n",
              "      <th>5</th>\n",
              "      <td>Married-spouse-absent</td>\n",
              "      <td>58</td>\n",
              "      <td>570</td>\n",
              "      <td>9.24</td>\n",
              "    </tr>\n",
              "    <tr>\n",
              "      <th>6</th>\n",
              "      <td>Married-AF-spouse</td>\n",
              "      <td>14</td>\n",
              "      <td>23</td>\n",
              "      <td>37.84</td>\n",
              "    </tr>\n",
              "  </tbody>\n",
              "</table>\n",
              "</div>"
            ],
            "text/plain": [
              "          marital-status  ...  >50K_percent_of_total_in_group\n",
              "0     Married-civ-spouse  ...                           44.61\n",
              "1          Never-married  ...                            4.55\n",
              "2               Divorced  ...                           10.12\n",
              "3                Widowed  ...                            8.43\n",
              "4              Separated  ...                            6.47\n",
              "5  Married-spouse-absent  ...                            9.24\n",
              "6      Married-AF-spouse  ...                           37.84\n",
              "\n",
              "[7 rows x 4 columns]"
            ]
          },
          "metadata": {
            "tags": []
          },
          "execution_count": 287
        }
      ]
    },
    {
      "cell_type": "code",
      "metadata": {
        "id": "vZbq53kD-F5F",
        "colab_type": "code",
        "outputId": "4113b640-d230-499e-8987-01395191493d",
        "colab": {
          "base_uri": "https://localhost:8080/",
          "height": 85
        }
      },
      "source": [
        "df['marital-status'].replace(['Married-civ-spouse','Married-AF-spouse'],'married', inplace=True)\n",
        "df['marital-status'].replace(['Divorced','Widowed','Separated','Married-spouse-absent'],'separated', inplace=True)\n",
        "df['marital-status'].value_counts()"
      ],
      "execution_count": 0,
      "outputs": [
        {
          "output_type": "execute_result",
          "data": {
            "text/plain": [
              "married          22416\n",
              "Never-married    16117\n",
              "separated        10309\n",
              "Name: marital-status, dtype: int64"
            ]
          },
          "metadata": {
            "tags": []
          },
          "execution_count": 288
        }
      ]
    },
    {
      "cell_type": "markdown",
      "metadata": {
        "id": "zlcIA7DJ-XiZ",
        "colab_type": "text"
      },
      "source": [
        "## Occupation"
      ]
    },
    {
      "cell_type": "code",
      "metadata": {
        "id": "H0DoePfc-VMp",
        "colab_type": "code",
        "outputId": "36fdf31f-b815-419e-a7c7-d8c0bff0c093",
        "colab": {
          "base_uri": "https://localhost:8080/",
          "height": 272
        }
      },
      "source": [
        "df['occupation'].value_counts()"
      ],
      "execution_count": 0,
      "outputs": [
        {
          "output_type": "execute_result",
          "data": {
            "text/plain": [
              "Prof-specialty       6172\n",
              "Craft-repair         6112\n",
              "Exec-managerial      6086\n",
              "Adm-clerical         5611\n",
              "Sales                5504\n",
              "Other-service        4923\n",
              "Machine-op-inspct    3022\n",
              "Transport-moving     2355\n",
              "Handlers-cleaners    2072\n",
              "Farming-fishing      1490\n",
              "Tech-support         1446\n",
              "Protective-serv       983\n",
              "Priv-house-serv       242\n",
              "Armed-Forces           15\n",
              "Name: occupation, dtype: int64"
            ]
          },
          "metadata": {
            "tags": []
          },
          "execution_count": 289
        }
      ]
    },
    {
      "cell_type": "code",
      "metadata": {
        "id": "tpY_bXsW-b7D",
        "colab_type": "code",
        "outputId": "6f481d91-779b-47c8-db35-dec8f0f59ef3",
        "colab": {
          "base_uri": "https://localhost:8080/",
          "height": 102
        }
      },
      "source": [
        "df.columns"
      ],
      "execution_count": 0,
      "outputs": [
        {
          "output_type": "execute_result",
          "data": {
            "text/plain": [
              "Index(['age', 'workclass', 'fnlwgt', 'education', 'education-num',\n",
              "       'marital-status', 'occupation', 'relationship', 'race', 'sex',\n",
              "       'capital-gain', 'capital-loss', 'hours-per-week', 'native-country',\n",
              "       'income', 'data_category', 'income>50K', 'income<50K'],\n",
              "      dtype='object')"
            ]
          },
          "metadata": {
            "tags": []
          },
          "execution_count": 290
        }
      ]
    },
    {
      "cell_type": "markdown",
      "metadata": {
        "id": "kCUB6coA-hjQ",
        "colab_type": "text"
      },
      "source": [
        "## Relationship"
      ]
    },
    {
      "cell_type": "code",
      "metadata": {
        "id": "1RbU6rdg-fVy",
        "colab_type": "code",
        "outputId": "0b8154d3-60c9-4de6-a417-3f353940eed1",
        "colab": {
          "base_uri": "https://localhost:8080/",
          "height": 136
        }
      },
      "source": [
        "df['relationship'].value_counts()"
      ],
      "execution_count": 0,
      "outputs": [
        {
          "output_type": "execute_result",
          "data": {
            "text/plain": [
              "Husband           19716\n",
              "Not-in-family     12583\n",
              "Own-child          7581\n",
              "Unmarried          5125\n",
              "Wife               2331\n",
              "Other-relative     1506\n",
              "Name: relationship, dtype: int64"
            ]
          },
          "metadata": {
            "tags": []
          },
          "execution_count": 291
        }
      ]
    },
    {
      "cell_type": "code",
      "metadata": {
        "id": "J_7AMR3V-maF",
        "colab_type": "code",
        "outputId": "2a0b3128-a345-40d1-fc7e-aae6b7321653",
        "colab": {
          "base_uri": "https://localhost:8080/",
          "height": 855
        }
      },
      "source": [
        "df[['marital-status','relationship','sex']].drop_duplicates()"
      ],
      "execution_count": 0,
      "outputs": [
        {
          "output_type": "execute_result",
          "data": {
            "text/html": [
              "<div>\n",
              "<style scoped>\n",
              "    .dataframe tbody tr th:only-of-type {\n",
              "        vertical-align: middle;\n",
              "    }\n",
              "\n",
              "    .dataframe tbody tr th {\n",
              "        vertical-align: top;\n",
              "    }\n",
              "\n",
              "    .dataframe thead th {\n",
              "        text-align: right;\n",
              "    }\n",
              "</style>\n",
              "<table border=\"1\" class=\"dataframe\">\n",
              "  <thead>\n",
              "    <tr style=\"text-align: right;\">\n",
              "      <th></th>\n",
              "      <th>marital-status</th>\n",
              "      <th>relationship</th>\n",
              "      <th>sex</th>\n",
              "    </tr>\n",
              "  </thead>\n",
              "  <tbody>\n",
              "    <tr>\n",
              "      <th>0</th>\n",
              "      <td>Never-married</td>\n",
              "      <td>Not-in-family</td>\n",
              "      <td>Male</td>\n",
              "    </tr>\n",
              "    <tr>\n",
              "      <th>1</th>\n",
              "      <td>married</td>\n",
              "      <td>Husband</td>\n",
              "      <td>Male</td>\n",
              "    </tr>\n",
              "    <tr>\n",
              "      <th>2</th>\n",
              "      <td>separated</td>\n",
              "      <td>Not-in-family</td>\n",
              "      <td>Male</td>\n",
              "    </tr>\n",
              "    <tr>\n",
              "      <th>4</th>\n",
              "      <td>married</td>\n",
              "      <td>Wife</td>\n",
              "      <td>Female</td>\n",
              "    </tr>\n",
              "    <tr>\n",
              "      <th>6</th>\n",
              "      <td>separated</td>\n",
              "      <td>Not-in-family</td>\n",
              "      <td>Female</td>\n",
              "    </tr>\n",
              "    <tr>\n",
              "      <th>8</th>\n",
              "      <td>Never-married</td>\n",
              "      <td>Not-in-family</td>\n",
              "      <td>Female</td>\n",
              "    </tr>\n",
              "    <tr>\n",
              "      <th>12</th>\n",
              "      <td>Never-married</td>\n",
              "      <td>Own-child</td>\n",
              "      <td>Female</td>\n",
              "    </tr>\n",
              "    <tr>\n",
              "      <th>16</th>\n",
              "      <td>Never-married</td>\n",
              "      <td>Own-child</td>\n",
              "      <td>Male</td>\n",
              "    </tr>\n",
              "    <tr>\n",
              "      <th>17</th>\n",
              "      <td>Never-married</td>\n",
              "      <td>Unmarried</td>\n",
              "      <td>Male</td>\n",
              "    </tr>\n",
              "    <tr>\n",
              "      <th>19</th>\n",
              "      <td>separated</td>\n",
              "      <td>Unmarried</td>\n",
              "      <td>Female</td>\n",
              "    </tr>\n",
              "    <tr>\n",
              "      <th>32</th>\n",
              "      <td>separated</td>\n",
              "      <td>Own-child</td>\n",
              "      <td>Male</td>\n",
              "    </tr>\n",
              "    <tr>\n",
              "      <th>33</th>\n",
              "      <td>married</td>\n",
              "      <td>Own-child</td>\n",
              "      <td>Male</td>\n",
              "    </tr>\n",
              "    <tr>\n",
              "      <th>71</th>\n",
              "      <td>separated</td>\n",
              "      <td>Own-child</td>\n",
              "      <td>Female</td>\n",
              "    </tr>\n",
              "    <tr>\n",
              "      <th>74</th>\n",
              "      <td>married</td>\n",
              "      <td>Other-relative</td>\n",
              "      <td>Male</td>\n",
              "    </tr>\n",
              "    <tr>\n",
              "      <th>110</th>\n",
              "      <td>Never-married</td>\n",
              "      <td>Other-relative</td>\n",
              "      <td>Male</td>\n",
              "    </tr>\n",
              "    <tr>\n",
              "      <th>145</th>\n",
              "      <td>Never-married</td>\n",
              "      <td>Unmarried</td>\n",
              "      <td>Female</td>\n",
              "    </tr>\n",
              "    <tr>\n",
              "      <th>152</th>\n",
              "      <td>Never-married</td>\n",
              "      <td>Other-relative</td>\n",
              "      <td>Female</td>\n",
              "    </tr>\n",
              "    <tr>\n",
              "      <th>157</th>\n",
              "      <td>separated</td>\n",
              "      <td>Unmarried</td>\n",
              "      <td>Male</td>\n",
              "    </tr>\n",
              "    <tr>\n",
              "      <th>159</th>\n",
              "      <td>separated</td>\n",
              "      <td>Other-relative</td>\n",
              "      <td>Male</td>\n",
              "    </tr>\n",
              "    <tr>\n",
              "      <th>233</th>\n",
              "      <td>separated</td>\n",
              "      <td>Other-relative</td>\n",
              "      <td>Female</td>\n",
              "    </tr>\n",
              "    <tr>\n",
              "      <th>317</th>\n",
              "      <td>married</td>\n",
              "      <td>Other-relative</td>\n",
              "      <td>Female</td>\n",
              "    </tr>\n",
              "    <tr>\n",
              "      <th>575</th>\n",
              "      <td>married</td>\n",
              "      <td>Wife</td>\n",
              "      <td>Male</td>\n",
              "    </tr>\n",
              "    <tr>\n",
              "      <th>1172</th>\n",
              "      <td>married</td>\n",
              "      <td>Not-in-family</td>\n",
              "      <td>Male</td>\n",
              "    </tr>\n",
              "    <tr>\n",
              "      <th>1755</th>\n",
              "      <td>married</td>\n",
              "      <td>Own-child</td>\n",
              "      <td>Female</td>\n",
              "    </tr>\n",
              "    <tr>\n",
              "      <th>7109</th>\n",
              "      <td>married</td>\n",
              "      <td>Husband</td>\n",
              "      <td>Female</td>\n",
              "    </tr>\n",
              "    <tr>\n",
              "      <th>8053</th>\n",
              "      <td>married</td>\n",
              "      <td>Not-in-family</td>\n",
              "      <td>Female</td>\n",
              "    </tr>\n",
              "  </tbody>\n",
              "</table>\n",
              "</div>"
            ],
            "text/plain": [
              "     marital-status    relationship     sex\n",
              "0     Never-married   Not-in-family    Male\n",
              "1           married         Husband    Male\n",
              "2         separated   Not-in-family    Male\n",
              "4           married            Wife  Female\n",
              "6         separated   Not-in-family  Female\n",
              "8     Never-married   Not-in-family  Female\n",
              "12    Never-married       Own-child  Female\n",
              "16    Never-married       Own-child    Male\n",
              "17    Never-married       Unmarried    Male\n",
              "19        separated       Unmarried  Female\n",
              "32        separated       Own-child    Male\n",
              "33          married       Own-child    Male\n",
              "71        separated       Own-child  Female\n",
              "74          married  Other-relative    Male\n",
              "110   Never-married  Other-relative    Male\n",
              "145   Never-married       Unmarried  Female\n",
              "152   Never-married  Other-relative  Female\n",
              "157       separated       Unmarried    Male\n",
              "159       separated  Other-relative    Male\n",
              "233       separated  Other-relative  Female\n",
              "317         married  Other-relative  Female\n",
              "575         married            Wife    Male\n",
              "1172        married   Not-in-family    Male\n",
              "1755        married       Own-child  Female\n",
              "7109        married         Husband  Female\n",
              "8053        married   Not-in-family  Female"
            ]
          },
          "metadata": {
            "tags": []
          },
          "execution_count": 292
        }
      ]
    },
    {
      "cell_type": "markdown",
      "metadata": {
        "id": "a491tW1D-kRn",
        "colab_type": "text"
      },
      "source": [
        "### Removing relationship column, as it is ambiguous, and majorly describe's the characteristics of the person who is filling the survey and not house-holder details"
      ]
    },
    {
      "cell_type": "code",
      "metadata": {
        "id": "q55BYkO_-ruL",
        "colab_type": "code",
        "outputId": "0a459d33-d0c6-4a76-ac95-df97c9b4d18b",
        "colab": {
          "base_uri": "https://localhost:8080/",
          "height": 343
        }
      },
      "source": [
        "df.head()"
      ],
      "execution_count": 0,
      "outputs": [
        {
          "output_type": "execute_result",
          "data": {
            "text/html": [
              "<div>\n",
              "<style scoped>\n",
              "    .dataframe tbody tr th:only-of-type {\n",
              "        vertical-align: middle;\n",
              "    }\n",
              "\n",
              "    .dataframe tbody tr th {\n",
              "        vertical-align: top;\n",
              "    }\n",
              "\n",
              "    .dataframe thead th {\n",
              "        text-align: right;\n",
              "    }\n",
              "</style>\n",
              "<table border=\"1\" class=\"dataframe\">\n",
              "  <thead>\n",
              "    <tr style=\"text-align: right;\">\n",
              "      <th></th>\n",
              "      <th>age</th>\n",
              "      <th>workclass</th>\n",
              "      <th>fnlwgt</th>\n",
              "      <th>education</th>\n",
              "      <th>education-num</th>\n",
              "      <th>marital-status</th>\n",
              "      <th>occupation</th>\n",
              "      <th>relationship</th>\n",
              "      <th>race</th>\n",
              "      <th>sex</th>\n",
              "      <th>capital-gain</th>\n",
              "      <th>capital-loss</th>\n",
              "      <th>hours-per-week</th>\n",
              "      <th>native-country</th>\n",
              "      <th>income</th>\n",
              "      <th>data_category</th>\n",
              "      <th>income&gt;50K</th>\n",
              "      <th>income&lt;50K</th>\n",
              "    </tr>\n",
              "  </thead>\n",
              "  <tbody>\n",
              "    <tr>\n",
              "      <th>0</th>\n",
              "      <td>39</td>\n",
              "      <td>local_gov</td>\n",
              "      <td>77516</td>\n",
              "      <td>Bachelors</td>\n",
              "      <td>13</td>\n",
              "      <td>Never-married</td>\n",
              "      <td>Adm-clerical</td>\n",
              "      <td>Not-in-family</td>\n",
              "      <td>White</td>\n",
              "      <td>Male</td>\n",
              "      <td>2174</td>\n",
              "      <td>0</td>\n",
              "      <td>40</td>\n",
              "      <td>United-States</td>\n",
              "      <td>&lt;=50K</td>\n",
              "      <td>train</td>\n",
              "      <td>0</td>\n",
              "      <td>1</td>\n",
              "    </tr>\n",
              "    <tr>\n",
              "      <th>1</th>\n",
              "      <td>50</td>\n",
              "      <td>Self-emp-not-inc</td>\n",
              "      <td>83311</td>\n",
              "      <td>Bachelors</td>\n",
              "      <td>13</td>\n",
              "      <td>married</td>\n",
              "      <td>Exec-managerial</td>\n",
              "      <td>Husband</td>\n",
              "      <td>White</td>\n",
              "      <td>Male</td>\n",
              "      <td>0</td>\n",
              "      <td>0</td>\n",
              "      <td>13</td>\n",
              "      <td>United-States</td>\n",
              "      <td>&lt;=50K</td>\n",
              "      <td>train</td>\n",
              "      <td>0</td>\n",
              "      <td>1</td>\n",
              "    </tr>\n",
              "    <tr>\n",
              "      <th>2</th>\n",
              "      <td>38</td>\n",
              "      <td>Private</td>\n",
              "      <td>215646</td>\n",
              "      <td>HS-grad</td>\n",
              "      <td>9</td>\n",
              "      <td>separated</td>\n",
              "      <td>Handlers-cleaners</td>\n",
              "      <td>Not-in-family</td>\n",
              "      <td>White</td>\n",
              "      <td>Male</td>\n",
              "      <td>0</td>\n",
              "      <td>0</td>\n",
              "      <td>40</td>\n",
              "      <td>United-States</td>\n",
              "      <td>&lt;=50K</td>\n",
              "      <td>train</td>\n",
              "      <td>0</td>\n",
              "      <td>1</td>\n",
              "    </tr>\n",
              "    <tr>\n",
              "      <th>3</th>\n",
              "      <td>53</td>\n",
              "      <td>Private</td>\n",
              "      <td>234721</td>\n",
              "      <td>dropout</td>\n",
              "      <td>7</td>\n",
              "      <td>married</td>\n",
              "      <td>Handlers-cleaners</td>\n",
              "      <td>Husband</td>\n",
              "      <td>Black</td>\n",
              "      <td>Male</td>\n",
              "      <td>0</td>\n",
              "      <td>0</td>\n",
              "      <td>40</td>\n",
              "      <td>United-States</td>\n",
              "      <td>&lt;=50K</td>\n",
              "      <td>train</td>\n",
              "      <td>0</td>\n",
              "      <td>1</td>\n",
              "    </tr>\n",
              "    <tr>\n",
              "      <th>4</th>\n",
              "      <td>28</td>\n",
              "      <td>Private</td>\n",
              "      <td>338409</td>\n",
              "      <td>Bachelors</td>\n",
              "      <td>13</td>\n",
              "      <td>married</td>\n",
              "      <td>Prof-specialty</td>\n",
              "      <td>Wife</td>\n",
              "      <td>Black</td>\n",
              "      <td>Female</td>\n",
              "      <td>0</td>\n",
              "      <td>0</td>\n",
              "      <td>40</td>\n",
              "      <td>Cuba</td>\n",
              "      <td>&lt;=50K</td>\n",
              "      <td>train</td>\n",
              "      <td>0</td>\n",
              "      <td>1</td>\n",
              "    </tr>\n",
              "  </tbody>\n",
              "</table>\n",
              "</div>"
            ],
            "text/plain": [
              "   age         workclass  fnlwgt  ... data_category  income>50K income<50K\n",
              "0   39         local_gov   77516  ...         train           0          1\n",
              "1   50  Self-emp-not-inc   83311  ...         train           0          1\n",
              "2   38           Private  215646  ...         train           0          1\n",
              "3   53           Private  234721  ...         train           0          1\n",
              "4   28           Private  338409  ...         train           0          1\n",
              "\n",
              "[5 rows x 18 columns]"
            ]
          },
          "metadata": {
            "tags": []
          },
          "execution_count": 293
        }
      ]
    },
    {
      "cell_type": "code",
      "metadata": {
        "id": "Vt5JJBva-t1z",
        "colab_type": "code",
        "colab": {}
      },
      "source": [
        "df.drop(['relationship'], axis=1, inplace=True)"
      ],
      "execution_count": 0,
      "outputs": []
    },
    {
      "cell_type": "code",
      "metadata": {
        "id": "5V5nvocA-v0I",
        "colab_type": "code",
        "outputId": "eb267a13-b28d-4e08-fb98-9c95b7a6614e",
        "colab": {
          "base_uri": "https://localhost:8080/",
          "height": 247
        }
      },
      "source": [
        "df.head(3)"
      ],
      "execution_count": 0,
      "outputs": [
        {
          "output_type": "execute_result",
          "data": {
            "text/html": [
              "<div>\n",
              "<style scoped>\n",
              "    .dataframe tbody tr th:only-of-type {\n",
              "        vertical-align: middle;\n",
              "    }\n",
              "\n",
              "    .dataframe tbody tr th {\n",
              "        vertical-align: top;\n",
              "    }\n",
              "\n",
              "    .dataframe thead th {\n",
              "        text-align: right;\n",
              "    }\n",
              "</style>\n",
              "<table border=\"1\" class=\"dataframe\">\n",
              "  <thead>\n",
              "    <tr style=\"text-align: right;\">\n",
              "      <th></th>\n",
              "      <th>age</th>\n",
              "      <th>workclass</th>\n",
              "      <th>fnlwgt</th>\n",
              "      <th>education</th>\n",
              "      <th>education-num</th>\n",
              "      <th>marital-status</th>\n",
              "      <th>occupation</th>\n",
              "      <th>race</th>\n",
              "      <th>sex</th>\n",
              "      <th>capital-gain</th>\n",
              "      <th>capital-loss</th>\n",
              "      <th>hours-per-week</th>\n",
              "      <th>native-country</th>\n",
              "      <th>income</th>\n",
              "      <th>data_category</th>\n",
              "      <th>income&gt;50K</th>\n",
              "      <th>income&lt;50K</th>\n",
              "    </tr>\n",
              "  </thead>\n",
              "  <tbody>\n",
              "    <tr>\n",
              "      <th>0</th>\n",
              "      <td>39</td>\n",
              "      <td>local_gov</td>\n",
              "      <td>77516</td>\n",
              "      <td>Bachelors</td>\n",
              "      <td>13</td>\n",
              "      <td>Never-married</td>\n",
              "      <td>Adm-clerical</td>\n",
              "      <td>White</td>\n",
              "      <td>Male</td>\n",
              "      <td>2174</td>\n",
              "      <td>0</td>\n",
              "      <td>40</td>\n",
              "      <td>United-States</td>\n",
              "      <td>&lt;=50K</td>\n",
              "      <td>train</td>\n",
              "      <td>0</td>\n",
              "      <td>1</td>\n",
              "    </tr>\n",
              "    <tr>\n",
              "      <th>1</th>\n",
              "      <td>50</td>\n",
              "      <td>Self-emp-not-inc</td>\n",
              "      <td>83311</td>\n",
              "      <td>Bachelors</td>\n",
              "      <td>13</td>\n",
              "      <td>married</td>\n",
              "      <td>Exec-managerial</td>\n",
              "      <td>White</td>\n",
              "      <td>Male</td>\n",
              "      <td>0</td>\n",
              "      <td>0</td>\n",
              "      <td>13</td>\n",
              "      <td>United-States</td>\n",
              "      <td>&lt;=50K</td>\n",
              "      <td>train</td>\n",
              "      <td>0</td>\n",
              "      <td>1</td>\n",
              "    </tr>\n",
              "    <tr>\n",
              "      <th>2</th>\n",
              "      <td>38</td>\n",
              "      <td>Private</td>\n",
              "      <td>215646</td>\n",
              "      <td>HS-grad</td>\n",
              "      <td>9</td>\n",
              "      <td>separated</td>\n",
              "      <td>Handlers-cleaners</td>\n",
              "      <td>White</td>\n",
              "      <td>Male</td>\n",
              "      <td>0</td>\n",
              "      <td>0</td>\n",
              "      <td>40</td>\n",
              "      <td>United-States</td>\n",
              "      <td>&lt;=50K</td>\n",
              "      <td>train</td>\n",
              "      <td>0</td>\n",
              "      <td>1</td>\n",
              "    </tr>\n",
              "  </tbody>\n",
              "</table>\n",
              "</div>"
            ],
            "text/plain": [
              "   age         workclass  fnlwgt  ... data_category  income>50K income<50K\n",
              "0   39         local_gov   77516  ...         train           0          1\n",
              "1   50  Self-emp-not-inc   83311  ...         train           0          1\n",
              "2   38           Private  215646  ...         train           0          1\n",
              "\n",
              "[3 rows x 17 columns]"
            ]
          },
          "metadata": {
            "tags": []
          },
          "execution_count": 295
        }
      ]
    },
    {
      "cell_type": "markdown",
      "metadata": {
        "id": "kJ2yJGM2-2zh",
        "colab_type": "text"
      },
      "source": [
        "## Race"
      ]
    },
    {
      "cell_type": "code",
      "metadata": {
        "id": "h5aFBNC3-6Qp",
        "colab_type": "code",
        "outputId": "c7e6307a-345a-42c3-bffd-e83bf4422205",
        "colab": {
          "base_uri": "https://localhost:8080/",
          "height": 119
        }
      },
      "source": [
        "df['race'].value_counts()"
      ],
      "execution_count": 0,
      "outputs": [
        {
          "output_type": "execute_result",
          "data": {
            "text/plain": [
              "White                 41762\n",
              "Black                  4685\n",
              "Asian-Pac-Islander     1519\n",
              "Amer-Indian-Eskimo      470\n",
              "Other                   406\n",
              "Name: race, dtype: int64"
            ]
          },
          "metadata": {
            "tags": []
          },
          "execution_count": 296
        }
      ]
    },
    {
      "cell_type": "markdown",
      "metadata": {
        "id": "0XihENxh_AjH",
        "colab_type": "text"
      },
      "source": [
        "## Native-Country"
      ]
    },
    {
      "cell_type": "code",
      "metadata": {
        "id": "-Qa6-raJ_DrV",
        "colab_type": "code",
        "outputId": "33ba4e44-5368-4011-8d32-607f9de28a02",
        "colab": {
          "base_uri": "https://localhost:8080/",
          "height": 731
        }
      },
      "source": [
        "df['native-country'].value_counts()"
      ],
      "execution_count": 0,
      "outputs": [
        {
          "output_type": "execute_result",
          "data": {
            "text/plain": [
              "United-States                 43832\n",
              "Mexico                          951\n",
              "Philippines                     295\n",
              "Germany                         206\n",
              "Puerto-Rico                     184\n",
              "Canada                          182\n",
              "El-Salvador                     155\n",
              "India                           151\n",
              "Cuba                            138\n",
              "England                         127\n",
              "China                           122\n",
              "South                           115\n",
              "Jamaica                         106\n",
              "Italy                           105\n",
              "Dominican-Republic              103\n",
              "Japan                            92\n",
              "Guatemala                        88\n",
              "Poland                           87\n",
              "Vietnam                          86\n",
              "Columbia                         85\n",
              "Haiti                            75\n",
              "Portugal                         67\n",
              "Taiwan                           65\n",
              "Iran                             59\n",
              "Nicaragua                        49\n",
              "Greece                           49\n",
              "Peru                             46\n",
              "Ecuador                          45\n",
              "France                           38\n",
              "Ireland                          37\n",
              "Hong                             30\n",
              "Thailand                         30\n",
              "Cambodia                         28\n",
              "Trinadad&Tobago                  27\n",
              "Yugoslavia                       23\n",
              "Laos                             23\n",
              "Outlying-US(Guam-USVI-etc)       23\n",
              "Scotland                         21\n",
              "Honduras                         20\n",
              "Hungary                          19\n",
              "Holand-Netherlands                1\n",
              "Name: native-country, dtype: int64"
            ]
          },
          "metadata": {
            "tags": []
          },
          "execution_count": 297
        }
      ]
    },
    {
      "cell_type": "code",
      "metadata": {
        "id": "-c641dXS_F4O",
        "colab_type": "code",
        "colab": {}
      },
      "source": [
        "country = df.groupby(['native-country']).agg({'income>50K':sum,'income<50K':sum}).sort_values(by=['income>50K'], ascending=False).reset_index()"
      ],
      "execution_count": 0,
      "outputs": []
    },
    {
      "cell_type": "code",
      "metadata": {
        "id": "kJOFomab_F7H",
        "colab_type": "code",
        "outputId": "5946a05c-66cb-4314-d602-2bcd0ead936b",
        "colab": {
          "base_uri": "https://localhost:8080/",
          "height": 1320
        }
      },
      "source": [
        "country"
      ],
      "execution_count": 0,
      "outputs": [
        {
          "output_type": "execute_result",
          "data": {
            "text/html": [
              "<div>\n",
              "<style scoped>\n",
              "    .dataframe tbody tr th:only-of-type {\n",
              "        vertical-align: middle;\n",
              "    }\n",
              "\n",
              "    .dataframe tbody tr th {\n",
              "        vertical-align: top;\n",
              "    }\n",
              "\n",
              "    .dataframe thead th {\n",
              "        text-align: right;\n",
              "    }\n",
              "</style>\n",
              "<table border=\"1\" class=\"dataframe\">\n",
              "  <thead>\n",
              "    <tr style=\"text-align: right;\">\n",
              "      <th></th>\n",
              "      <th>native-country</th>\n",
              "      <th>income&gt;50K</th>\n",
              "      <th>income&lt;50K</th>\n",
              "    </tr>\n",
              "  </thead>\n",
              "  <tbody>\n",
              "    <tr>\n",
              "      <th>0</th>\n",
              "      <td>United-States</td>\n",
              "      <td>10694</td>\n",
              "      <td>33138</td>\n",
              "    </tr>\n",
              "    <tr>\n",
              "      <th>1</th>\n",
              "      <td>Philippines</td>\n",
              "      <td>85</td>\n",
              "      <td>210</td>\n",
              "    </tr>\n",
              "    <tr>\n",
              "      <th>2</th>\n",
              "      <td>Canada</td>\n",
              "      <td>63</td>\n",
              "      <td>119</td>\n",
              "    </tr>\n",
              "    <tr>\n",
              "      <th>3</th>\n",
              "      <td>India</td>\n",
              "      <td>62</td>\n",
              "      <td>89</td>\n",
              "    </tr>\n",
              "    <tr>\n",
              "      <th>4</th>\n",
              "      <td>Germany</td>\n",
              "      <td>58</td>\n",
              "      <td>148</td>\n",
              "    </tr>\n",
              "    <tr>\n",
              "      <th>5</th>\n",
              "      <td>England</td>\n",
              "      <td>47</td>\n",
              "      <td>80</td>\n",
              "    </tr>\n",
              "    <tr>\n",
              "      <th>6</th>\n",
              "      <td>Mexico</td>\n",
              "      <td>47</td>\n",
              "      <td>904</td>\n",
              "    </tr>\n",
              "    <tr>\n",
              "      <th>7</th>\n",
              "      <td>China</td>\n",
              "      <td>36</td>\n",
              "      <td>86</td>\n",
              "    </tr>\n",
              "    <tr>\n",
              "      <th>8</th>\n",
              "      <td>Italy</td>\n",
              "      <td>34</td>\n",
              "      <td>71</td>\n",
              "    </tr>\n",
              "    <tr>\n",
              "      <th>9</th>\n",
              "      <td>Cuba</td>\n",
              "      <td>34</td>\n",
              "      <td>104</td>\n",
              "    </tr>\n",
              "    <tr>\n",
              "      <th>10</th>\n",
              "      <td>Japan</td>\n",
              "      <td>32</td>\n",
              "      <td>60</td>\n",
              "    </tr>\n",
              "    <tr>\n",
              "      <th>11</th>\n",
              "      <td>Taiwan</td>\n",
              "      <td>26</td>\n",
              "      <td>39</td>\n",
              "    </tr>\n",
              "    <tr>\n",
              "      <th>12</th>\n",
              "      <td>Iran</td>\n",
              "      <td>22</td>\n",
              "      <td>37</td>\n",
              "    </tr>\n",
              "    <tr>\n",
              "      <th>13</th>\n",
              "      <td>South</td>\n",
              "      <td>20</td>\n",
              "      <td>95</td>\n",
              "    </tr>\n",
              "    <tr>\n",
              "      <th>14</th>\n",
              "      <td>Puerto-Rico</td>\n",
              "      <td>20</td>\n",
              "      <td>164</td>\n",
              "    </tr>\n",
              "    <tr>\n",
              "      <th>15</th>\n",
              "      <td>Greece</td>\n",
              "      <td>18</td>\n",
              "      <td>31</td>\n",
              "    </tr>\n",
              "    <tr>\n",
              "      <th>16</th>\n",
              "      <td>Poland</td>\n",
              "      <td>17</td>\n",
              "      <td>70</td>\n",
              "    </tr>\n",
              "    <tr>\n",
              "      <th>17</th>\n",
              "      <td>France</td>\n",
              "      <td>16</td>\n",
              "      <td>22</td>\n",
              "    </tr>\n",
              "    <tr>\n",
              "      <th>18</th>\n",
              "      <td>Jamaica</td>\n",
              "      <td>15</td>\n",
              "      <td>91</td>\n",
              "    </tr>\n",
              "    <tr>\n",
              "      <th>19</th>\n",
              "      <td>Portugal</td>\n",
              "      <td>12</td>\n",
              "      <td>55</td>\n",
              "    </tr>\n",
              "    <tr>\n",
              "      <th>20</th>\n",
              "      <td>El-Salvador</td>\n",
              "      <td>11</td>\n",
              "      <td>144</td>\n",
              "    </tr>\n",
              "    <tr>\n",
              "      <th>21</th>\n",
              "      <td>Ireland</td>\n",
              "      <td>11</td>\n",
              "      <td>26</td>\n",
              "    </tr>\n",
              "    <tr>\n",
              "      <th>22</th>\n",
              "      <td>Cambodia</td>\n",
              "      <td>9</td>\n",
              "      <td>19</td>\n",
              "    </tr>\n",
              "    <tr>\n",
              "      <th>23</th>\n",
              "      <td>Haiti</td>\n",
              "      <td>9</td>\n",
              "      <td>66</td>\n",
              "    </tr>\n",
              "    <tr>\n",
              "      <th>24</th>\n",
              "      <td>Yugoslavia</td>\n",
              "      <td>8</td>\n",
              "      <td>15</td>\n",
              "    </tr>\n",
              "    <tr>\n",
              "      <th>25</th>\n",
              "      <td>Hong</td>\n",
              "      <td>8</td>\n",
              "      <td>22</td>\n",
              "    </tr>\n",
              "    <tr>\n",
              "      <th>26</th>\n",
              "      <td>Vietnam</td>\n",
              "      <td>7</td>\n",
              "      <td>79</td>\n",
              "    </tr>\n",
              "    <tr>\n",
              "      <th>27</th>\n",
              "      <td>Ecuador</td>\n",
              "      <td>6</td>\n",
              "      <td>39</td>\n",
              "    </tr>\n",
              "    <tr>\n",
              "      <th>28</th>\n",
              "      <td>Hungary</td>\n",
              "      <td>6</td>\n",
              "      <td>13</td>\n",
              "    </tr>\n",
              "    <tr>\n",
              "      <th>29</th>\n",
              "      <td>Dominican-Republic</td>\n",
              "      <td>5</td>\n",
              "      <td>98</td>\n",
              "    </tr>\n",
              "    <tr>\n",
              "      <th>30</th>\n",
              "      <td>Thailand</td>\n",
              "      <td>5</td>\n",
              "      <td>25</td>\n",
              "    </tr>\n",
              "    <tr>\n",
              "      <th>31</th>\n",
              "      <td>Peru</td>\n",
              "      <td>4</td>\n",
              "      <td>42</td>\n",
              "    </tr>\n",
              "    <tr>\n",
              "      <th>32</th>\n",
              "      <td>Columbia</td>\n",
              "      <td>4</td>\n",
              "      <td>81</td>\n",
              "    </tr>\n",
              "    <tr>\n",
              "      <th>33</th>\n",
              "      <td>Scotland</td>\n",
              "      <td>3</td>\n",
              "      <td>18</td>\n",
              "    </tr>\n",
              "    <tr>\n",
              "      <th>34</th>\n",
              "      <td>Nicaragua</td>\n",
              "      <td>3</td>\n",
              "      <td>46</td>\n",
              "    </tr>\n",
              "    <tr>\n",
              "      <th>35</th>\n",
              "      <td>Guatemala</td>\n",
              "      <td>3</td>\n",
              "      <td>85</td>\n",
              "    </tr>\n",
              "    <tr>\n",
              "      <th>36</th>\n",
              "      <td>Honduras</td>\n",
              "      <td>2</td>\n",
              "      <td>18</td>\n",
              "    </tr>\n",
              "    <tr>\n",
              "      <th>37</th>\n",
              "      <td>Laos</td>\n",
              "      <td>2</td>\n",
              "      <td>21</td>\n",
              "    </tr>\n",
              "    <tr>\n",
              "      <th>38</th>\n",
              "      <td>Trinadad&amp;Tobago</td>\n",
              "      <td>2</td>\n",
              "      <td>25</td>\n",
              "    </tr>\n",
              "    <tr>\n",
              "      <th>39</th>\n",
              "      <td>Outlying-US(Guam-USVI-etc)</td>\n",
              "      <td>1</td>\n",
              "      <td>22</td>\n",
              "    </tr>\n",
              "    <tr>\n",
              "      <th>40</th>\n",
              "      <td>Holand-Netherlands</td>\n",
              "      <td>0</td>\n",
              "      <td>1</td>\n",
              "    </tr>\n",
              "  </tbody>\n",
              "</table>\n",
              "</div>"
            ],
            "text/plain": [
              "                native-country  income>50K  income<50K\n",
              "0                United-States       10694       33138\n",
              "1                  Philippines          85         210\n",
              "2                       Canada          63         119\n",
              "3                        India          62          89\n",
              "4                      Germany          58         148\n",
              "5                      England          47          80\n",
              "6                       Mexico          47         904\n",
              "7                        China          36          86\n",
              "8                        Italy          34          71\n",
              "9                         Cuba          34         104\n",
              "10                       Japan          32          60\n",
              "11                      Taiwan          26          39\n",
              "12                        Iran          22          37\n",
              "13                       South          20          95\n",
              "14                 Puerto-Rico          20         164\n",
              "15                      Greece          18          31\n",
              "16                      Poland          17          70\n",
              "17                      France          16          22\n",
              "18                     Jamaica          15          91\n",
              "19                    Portugal          12          55\n",
              "20                 El-Salvador          11         144\n",
              "21                     Ireland          11          26\n",
              "22                    Cambodia           9          19\n",
              "23                       Haiti           9          66\n",
              "24                  Yugoslavia           8          15\n",
              "25                        Hong           8          22\n",
              "26                     Vietnam           7          79\n",
              "27                     Ecuador           6          39\n",
              "28                     Hungary           6          13\n",
              "29          Dominican-Republic           5          98\n",
              "30                    Thailand           5          25\n",
              "31                        Peru           4          42\n",
              "32                    Columbia           4          81\n",
              "33                    Scotland           3          18\n",
              "34                   Nicaragua           3          46\n",
              "35                   Guatemala           3          85\n",
              "36                    Honduras           2          18\n",
              "37                        Laos           2          21\n",
              "38             Trinadad&Tobago           2          25\n",
              "39  Outlying-US(Guam-USVI-etc)           1          22\n",
              "40          Holand-Netherlands           0           1"
            ]
          },
          "metadata": {
            "tags": []
          },
          "execution_count": 299
        }
      ]
    },
    {
      "cell_type": "code",
      "metadata": {
        "id": "c8fau-R__F-Y",
        "colab_type": "code",
        "outputId": "e1442644-aae1-45ae-b1a2-11206f43e5bd",
        "colab": {
          "base_uri": "https://localhost:8080/",
          "height": 1320
        }
      },
      "source": [
        "country['>50K_percent_of_total_in_group'] = round((country['income>50K']/(country['income>50K']+country['income<50K']))*100,2)\n",
        "country['total_people'] = country['income>50K']+country['income<50K']\n",
        "country.sort_values(by=['total_people'], ascending=False).reset_index(drop=True)"
      ],
      "execution_count": 0,
      "outputs": [
        {
          "output_type": "execute_result",
          "data": {
            "text/html": [
              "<div>\n",
              "<style scoped>\n",
              "    .dataframe tbody tr th:only-of-type {\n",
              "        vertical-align: middle;\n",
              "    }\n",
              "\n",
              "    .dataframe tbody tr th {\n",
              "        vertical-align: top;\n",
              "    }\n",
              "\n",
              "    .dataframe thead th {\n",
              "        text-align: right;\n",
              "    }\n",
              "</style>\n",
              "<table border=\"1\" class=\"dataframe\">\n",
              "  <thead>\n",
              "    <tr style=\"text-align: right;\">\n",
              "      <th></th>\n",
              "      <th>native-country</th>\n",
              "      <th>income&gt;50K</th>\n",
              "      <th>income&lt;50K</th>\n",
              "      <th>&gt;50K_percent_of_total_in_group</th>\n",
              "      <th>total_people</th>\n",
              "    </tr>\n",
              "  </thead>\n",
              "  <tbody>\n",
              "    <tr>\n",
              "      <th>0</th>\n",
              "      <td>United-States</td>\n",
              "      <td>10694</td>\n",
              "      <td>33138</td>\n",
              "      <td>24.40</td>\n",
              "      <td>43832</td>\n",
              "    </tr>\n",
              "    <tr>\n",
              "      <th>1</th>\n",
              "      <td>Mexico</td>\n",
              "      <td>47</td>\n",
              "      <td>904</td>\n",
              "      <td>4.94</td>\n",
              "      <td>951</td>\n",
              "    </tr>\n",
              "    <tr>\n",
              "      <th>2</th>\n",
              "      <td>Philippines</td>\n",
              "      <td>85</td>\n",
              "      <td>210</td>\n",
              "      <td>28.81</td>\n",
              "      <td>295</td>\n",
              "    </tr>\n",
              "    <tr>\n",
              "      <th>3</th>\n",
              "      <td>Germany</td>\n",
              "      <td>58</td>\n",
              "      <td>148</td>\n",
              "      <td>28.16</td>\n",
              "      <td>206</td>\n",
              "    </tr>\n",
              "    <tr>\n",
              "      <th>4</th>\n",
              "      <td>Puerto-Rico</td>\n",
              "      <td>20</td>\n",
              "      <td>164</td>\n",
              "      <td>10.87</td>\n",
              "      <td>184</td>\n",
              "    </tr>\n",
              "    <tr>\n",
              "      <th>5</th>\n",
              "      <td>Canada</td>\n",
              "      <td>63</td>\n",
              "      <td>119</td>\n",
              "      <td>34.62</td>\n",
              "      <td>182</td>\n",
              "    </tr>\n",
              "    <tr>\n",
              "      <th>6</th>\n",
              "      <td>El-Salvador</td>\n",
              "      <td>11</td>\n",
              "      <td>144</td>\n",
              "      <td>7.10</td>\n",
              "      <td>155</td>\n",
              "    </tr>\n",
              "    <tr>\n",
              "      <th>7</th>\n",
              "      <td>India</td>\n",
              "      <td>62</td>\n",
              "      <td>89</td>\n",
              "      <td>41.06</td>\n",
              "      <td>151</td>\n",
              "    </tr>\n",
              "    <tr>\n",
              "      <th>8</th>\n",
              "      <td>Cuba</td>\n",
              "      <td>34</td>\n",
              "      <td>104</td>\n",
              "      <td>24.64</td>\n",
              "      <td>138</td>\n",
              "    </tr>\n",
              "    <tr>\n",
              "      <th>9</th>\n",
              "      <td>England</td>\n",
              "      <td>47</td>\n",
              "      <td>80</td>\n",
              "      <td>37.01</td>\n",
              "      <td>127</td>\n",
              "    </tr>\n",
              "    <tr>\n",
              "      <th>10</th>\n",
              "      <td>China</td>\n",
              "      <td>36</td>\n",
              "      <td>86</td>\n",
              "      <td>29.51</td>\n",
              "      <td>122</td>\n",
              "    </tr>\n",
              "    <tr>\n",
              "      <th>11</th>\n",
              "      <td>South</td>\n",
              "      <td>20</td>\n",
              "      <td>95</td>\n",
              "      <td>17.39</td>\n",
              "      <td>115</td>\n",
              "    </tr>\n",
              "    <tr>\n",
              "      <th>12</th>\n",
              "      <td>Jamaica</td>\n",
              "      <td>15</td>\n",
              "      <td>91</td>\n",
              "      <td>14.15</td>\n",
              "      <td>106</td>\n",
              "    </tr>\n",
              "    <tr>\n",
              "      <th>13</th>\n",
              "      <td>Italy</td>\n",
              "      <td>34</td>\n",
              "      <td>71</td>\n",
              "      <td>32.38</td>\n",
              "      <td>105</td>\n",
              "    </tr>\n",
              "    <tr>\n",
              "      <th>14</th>\n",
              "      <td>Dominican-Republic</td>\n",
              "      <td>5</td>\n",
              "      <td>98</td>\n",
              "      <td>4.85</td>\n",
              "      <td>103</td>\n",
              "    </tr>\n",
              "    <tr>\n",
              "      <th>15</th>\n",
              "      <td>Japan</td>\n",
              "      <td>32</td>\n",
              "      <td>60</td>\n",
              "      <td>34.78</td>\n",
              "      <td>92</td>\n",
              "    </tr>\n",
              "    <tr>\n",
              "      <th>16</th>\n",
              "      <td>Guatemala</td>\n",
              "      <td>3</td>\n",
              "      <td>85</td>\n",
              "      <td>3.41</td>\n",
              "      <td>88</td>\n",
              "    </tr>\n",
              "    <tr>\n",
              "      <th>17</th>\n",
              "      <td>Poland</td>\n",
              "      <td>17</td>\n",
              "      <td>70</td>\n",
              "      <td>19.54</td>\n",
              "      <td>87</td>\n",
              "    </tr>\n",
              "    <tr>\n",
              "      <th>18</th>\n",
              "      <td>Vietnam</td>\n",
              "      <td>7</td>\n",
              "      <td>79</td>\n",
              "      <td>8.14</td>\n",
              "      <td>86</td>\n",
              "    </tr>\n",
              "    <tr>\n",
              "      <th>19</th>\n",
              "      <td>Columbia</td>\n",
              "      <td>4</td>\n",
              "      <td>81</td>\n",
              "      <td>4.71</td>\n",
              "      <td>85</td>\n",
              "    </tr>\n",
              "    <tr>\n",
              "      <th>20</th>\n",
              "      <td>Haiti</td>\n",
              "      <td>9</td>\n",
              "      <td>66</td>\n",
              "      <td>12.00</td>\n",
              "      <td>75</td>\n",
              "    </tr>\n",
              "    <tr>\n",
              "      <th>21</th>\n",
              "      <td>Portugal</td>\n",
              "      <td>12</td>\n",
              "      <td>55</td>\n",
              "      <td>17.91</td>\n",
              "      <td>67</td>\n",
              "    </tr>\n",
              "    <tr>\n",
              "      <th>22</th>\n",
              "      <td>Taiwan</td>\n",
              "      <td>26</td>\n",
              "      <td>39</td>\n",
              "      <td>40.00</td>\n",
              "      <td>65</td>\n",
              "    </tr>\n",
              "    <tr>\n",
              "      <th>23</th>\n",
              "      <td>Iran</td>\n",
              "      <td>22</td>\n",
              "      <td>37</td>\n",
              "      <td>37.29</td>\n",
              "      <td>59</td>\n",
              "    </tr>\n",
              "    <tr>\n",
              "      <th>24</th>\n",
              "      <td>Greece</td>\n",
              "      <td>18</td>\n",
              "      <td>31</td>\n",
              "      <td>36.73</td>\n",
              "      <td>49</td>\n",
              "    </tr>\n",
              "    <tr>\n",
              "      <th>25</th>\n",
              "      <td>Nicaragua</td>\n",
              "      <td>3</td>\n",
              "      <td>46</td>\n",
              "      <td>6.12</td>\n",
              "      <td>49</td>\n",
              "    </tr>\n",
              "    <tr>\n",
              "      <th>26</th>\n",
              "      <td>Peru</td>\n",
              "      <td>4</td>\n",
              "      <td>42</td>\n",
              "      <td>8.70</td>\n",
              "      <td>46</td>\n",
              "    </tr>\n",
              "    <tr>\n",
              "      <th>27</th>\n",
              "      <td>Ecuador</td>\n",
              "      <td>6</td>\n",
              "      <td>39</td>\n",
              "      <td>13.33</td>\n",
              "      <td>45</td>\n",
              "    </tr>\n",
              "    <tr>\n",
              "      <th>28</th>\n",
              "      <td>France</td>\n",
              "      <td>16</td>\n",
              "      <td>22</td>\n",
              "      <td>42.11</td>\n",
              "      <td>38</td>\n",
              "    </tr>\n",
              "    <tr>\n",
              "      <th>29</th>\n",
              "      <td>Ireland</td>\n",
              "      <td>11</td>\n",
              "      <td>26</td>\n",
              "      <td>29.73</td>\n",
              "      <td>37</td>\n",
              "    </tr>\n",
              "    <tr>\n",
              "      <th>30</th>\n",
              "      <td>Thailand</td>\n",
              "      <td>5</td>\n",
              "      <td>25</td>\n",
              "      <td>16.67</td>\n",
              "      <td>30</td>\n",
              "    </tr>\n",
              "    <tr>\n",
              "      <th>31</th>\n",
              "      <td>Hong</td>\n",
              "      <td>8</td>\n",
              "      <td>22</td>\n",
              "      <td>26.67</td>\n",
              "      <td>30</td>\n",
              "    </tr>\n",
              "    <tr>\n",
              "      <th>32</th>\n",
              "      <td>Cambodia</td>\n",
              "      <td>9</td>\n",
              "      <td>19</td>\n",
              "      <td>32.14</td>\n",
              "      <td>28</td>\n",
              "    </tr>\n",
              "    <tr>\n",
              "      <th>33</th>\n",
              "      <td>Trinadad&amp;Tobago</td>\n",
              "      <td>2</td>\n",
              "      <td>25</td>\n",
              "      <td>7.41</td>\n",
              "      <td>27</td>\n",
              "    </tr>\n",
              "    <tr>\n",
              "      <th>34</th>\n",
              "      <td>Outlying-US(Guam-USVI-etc)</td>\n",
              "      <td>1</td>\n",
              "      <td>22</td>\n",
              "      <td>4.35</td>\n",
              "      <td>23</td>\n",
              "    </tr>\n",
              "    <tr>\n",
              "      <th>35</th>\n",
              "      <td>Laos</td>\n",
              "      <td>2</td>\n",
              "      <td>21</td>\n",
              "      <td>8.70</td>\n",
              "      <td>23</td>\n",
              "    </tr>\n",
              "    <tr>\n",
              "      <th>36</th>\n",
              "      <td>Yugoslavia</td>\n",
              "      <td>8</td>\n",
              "      <td>15</td>\n",
              "      <td>34.78</td>\n",
              "      <td>23</td>\n",
              "    </tr>\n",
              "    <tr>\n",
              "      <th>37</th>\n",
              "      <td>Scotland</td>\n",
              "      <td>3</td>\n",
              "      <td>18</td>\n",
              "      <td>14.29</td>\n",
              "      <td>21</td>\n",
              "    </tr>\n",
              "    <tr>\n",
              "      <th>38</th>\n",
              "      <td>Honduras</td>\n",
              "      <td>2</td>\n",
              "      <td>18</td>\n",
              "      <td>10.00</td>\n",
              "      <td>20</td>\n",
              "    </tr>\n",
              "    <tr>\n",
              "      <th>39</th>\n",
              "      <td>Hungary</td>\n",
              "      <td>6</td>\n",
              "      <td>13</td>\n",
              "      <td>31.58</td>\n",
              "      <td>19</td>\n",
              "    </tr>\n",
              "    <tr>\n",
              "      <th>40</th>\n",
              "      <td>Holand-Netherlands</td>\n",
              "      <td>0</td>\n",
              "      <td>1</td>\n",
              "      <td>0.00</td>\n",
              "      <td>1</td>\n",
              "    </tr>\n",
              "  </tbody>\n",
              "</table>\n",
              "</div>"
            ],
            "text/plain": [
              "                native-country  ...  total_people\n",
              "0                United-States  ...         43832\n",
              "1                       Mexico  ...           951\n",
              "2                  Philippines  ...           295\n",
              "3                      Germany  ...           206\n",
              "4                  Puerto-Rico  ...           184\n",
              "5                       Canada  ...           182\n",
              "6                  El-Salvador  ...           155\n",
              "7                        India  ...           151\n",
              "8                         Cuba  ...           138\n",
              "9                      England  ...           127\n",
              "10                       China  ...           122\n",
              "11                       South  ...           115\n",
              "12                     Jamaica  ...           106\n",
              "13                       Italy  ...           105\n",
              "14          Dominican-Republic  ...           103\n",
              "15                       Japan  ...            92\n",
              "16                   Guatemala  ...            88\n",
              "17                      Poland  ...            87\n",
              "18                     Vietnam  ...            86\n",
              "19                    Columbia  ...            85\n",
              "20                       Haiti  ...            75\n",
              "21                    Portugal  ...            67\n",
              "22                      Taiwan  ...            65\n",
              "23                        Iran  ...            59\n",
              "24                      Greece  ...            49\n",
              "25                   Nicaragua  ...            49\n",
              "26                        Peru  ...            46\n",
              "27                     Ecuador  ...            45\n",
              "28                      France  ...            38\n",
              "29                     Ireland  ...            37\n",
              "30                    Thailand  ...            30\n",
              "31                        Hong  ...            30\n",
              "32                    Cambodia  ...            28\n",
              "33             Trinadad&Tobago  ...            27\n",
              "34  Outlying-US(Guam-USVI-etc)  ...            23\n",
              "35                        Laos  ...            23\n",
              "36                  Yugoslavia  ...            23\n",
              "37                    Scotland  ...            21\n",
              "38                    Honduras  ...            20\n",
              "39                     Hungary  ...            19\n",
              "40          Holand-Netherlands  ...             1\n",
              "\n",
              "[41 rows x 5 columns]"
            ]
          },
          "metadata": {
            "tags": []
          },
          "execution_count": 300
        }
      ]
    },
    {
      "cell_type": "code",
      "metadata": {
        "id": "9HO4mUXr_GBL",
        "colab_type": "code",
        "outputId": "9c117f66-4d5a-4bd8-bedb-e5b3750ce8ab",
        "colab": {
          "base_uri": "https://localhost:8080/",
          "height": 68
        }
      },
      "source": [
        "country[(country['income>50K']>=30) | (country['>50K_percent_of_total_in_group']>=35)]['native-country'].unique()"
      ],
      "execution_count": 0,
      "outputs": [
        {
          "output_type": "execute_result",
          "data": {
            "text/plain": [
              "array(['United-States', 'Philippines', 'Canada', 'India', 'Germany',\n",
              "       'England', 'Mexico', 'China', 'Italy', 'Cuba', 'Japan', 'Taiwan',\n",
              "       'Iran', 'Greece', 'France'], dtype=object)"
            ]
          },
          "metadata": {
            "tags": []
          },
          "execution_count": 301
        }
      ]
    },
    {
      "cell_type": "code",
      "metadata": {
        "id": "Ce8oPhA7_cK5",
        "colab_type": "code",
        "colab": {}
      },
      "source": [
        "top_country = ['United-States']\n",
        "\n",
        "medium_country = ['Philippines', 'Canada', 'India', 'Germany',\n",
        "                'England', 'Mexico', 'China', 'Italy', 'Cuba', 'Japan', 'Taiwan',\n",
        "               'Iran', 'Greece', 'France']\n",
        "\n",
        "remaining_country = list(set(df['native-country'].unique()) - set(top_country + medium_country))"
      ],
      "execution_count": 0,
      "outputs": []
    },
    {
      "cell_type": "code",
      "metadata": {
        "id": "oIWmL5YH_Ul7",
        "colab_type": "code",
        "colab": {}
      },
      "source": [
        "df['native-country'].replace(top_country,'top', inplace=True)\n",
        "df['native-country'].replace(medium_country,'medium', inplace=True)\n",
        "df['native-country'].replace(remaining_country,'others', inplace=True)"
      ],
      "execution_count": 0,
      "outputs": []
    },
    {
      "cell_type": "code",
      "metadata": {
        "id": "lacJ0XoG_blG",
        "colab_type": "code",
        "outputId": "6cc1883a-97c1-4bea-ba43-ae980107f461",
        "colab": {
          "base_uri": "https://localhost:8080/",
          "height": 85
        }
      },
      "source": [
        "df['native-country'].value_counts()"
      ],
      "execution_count": 0,
      "outputs": [
        {
          "output_type": "execute_result",
          "data": {
            "text/plain": [
              "top       43832\n",
              "medium     2580\n",
              "others     2430\n",
              "Name: native-country, dtype: int64"
            ]
          },
          "metadata": {
            "tags": []
          },
          "execution_count": 304
        }
      ]
    },
    {
      "cell_type": "markdown",
      "metadata": {
        "id": "x8DNWTu5MCGM",
        "colab_type": "text"
      },
      "source": [
        "## Capital Gain and Loss"
      ]
    },
    {
      "cell_type": "code",
      "metadata": {
        "id": "2dfURvldMDRl",
        "colab_type": "code",
        "outputId": "e5b240e0-ae16-4e3d-f6fd-e1d294c67509",
        "colab": {
          "base_uri": "https://localhost:8080/",
          "height": 142
        }
      },
      "source": [
        "df.groupby(['income']).agg({'capital-gain':'mean'})"
      ],
      "execution_count": 0,
      "outputs": [
        {
          "output_type": "execute_result",
          "data": {
            "text/html": [
              "<div>\n",
              "<style scoped>\n",
              "    .dataframe tbody tr th:only-of-type {\n",
              "        vertical-align: middle;\n",
              "    }\n",
              "\n",
              "    .dataframe tbody tr th {\n",
              "        vertical-align: top;\n",
              "    }\n",
              "\n",
              "    .dataframe thead th {\n",
              "        text-align: right;\n",
              "    }\n",
              "</style>\n",
              "<table border=\"1\" class=\"dataframe\">\n",
              "  <thead>\n",
              "    <tr style=\"text-align: right;\">\n",
              "      <th></th>\n",
              "      <th>capital-gain</th>\n",
              "    </tr>\n",
              "    <tr>\n",
              "      <th>income</th>\n",
              "      <th></th>\n",
              "    </tr>\n",
              "  </thead>\n",
              "  <tbody>\n",
              "    <tr>\n",
              "      <th>&lt;=50K</th>\n",
              "      <td>147.010308</td>\n",
              "    </tr>\n",
              "    <tr>\n",
              "      <th>&gt;50K</th>\n",
              "      <td>4042.239497</td>\n",
              "    </tr>\n",
              "  </tbody>\n",
              "</table>\n",
              "</div>"
            ],
            "text/plain": [
              "        capital-gain\n",
              "income              \n",
              "<=50K     147.010308\n",
              ">50K     4042.239497"
            ]
          },
          "metadata": {
            "tags": []
          },
          "execution_count": 305
        }
      ]
    },
    {
      "cell_type": "code",
      "metadata": {
        "id": "bix65ACOMDgq",
        "colab_type": "code",
        "outputId": "830500a1-4766-4894-d2ec-c9db75f32087",
        "colab": {
          "base_uri": "https://localhost:8080/",
          "height": 142
        }
      },
      "source": [
        "df.groupby(['income']).agg({'capital-loss':'mean'})"
      ],
      "execution_count": 0,
      "outputs": [
        {
          "output_type": "execute_result",
          "data": {
            "text/html": [
              "<div>\n",
              "<style scoped>\n",
              "    .dataframe tbody tr th:only-of-type {\n",
              "        vertical-align: middle;\n",
              "    }\n",
              "\n",
              "    .dataframe tbody tr th {\n",
              "        vertical-align: top;\n",
              "    }\n",
              "\n",
              "    .dataframe thead th {\n",
              "        text-align: right;\n",
              "    }\n",
              "</style>\n",
              "<table border=\"1\" class=\"dataframe\">\n",
              "  <thead>\n",
              "    <tr style=\"text-align: right;\">\n",
              "      <th></th>\n",
              "      <th>capital-loss</th>\n",
              "    </tr>\n",
              "    <tr>\n",
              "      <th>income</th>\n",
              "      <th></th>\n",
              "    </tr>\n",
              "  </thead>\n",
              "  <tbody>\n",
              "    <tr>\n",
              "      <th>&lt;=50K</th>\n",
              "      <td>54.151931</td>\n",
              "    </tr>\n",
              "    <tr>\n",
              "      <th>&gt;50K</th>\n",
              "      <td>193.528964</td>\n",
              "    </tr>\n",
              "  </tbody>\n",
              "</table>\n",
              "</div>"
            ],
            "text/plain": [
              "        capital-loss\n",
              "income              \n",
              "<=50K      54.151931\n",
              ">50K      193.528964"
            ]
          },
          "metadata": {
            "tags": []
          },
          "execution_count": 306
        }
      ]
    },
    {
      "cell_type": "code",
      "metadata": {
        "id": "d3pmhWWKMDlQ",
        "colab_type": "code",
        "outputId": "8c7e990c-4da6-4ff7-9d74-924fd8e69e5b",
        "colab": {
          "base_uri": "https://localhost:8080/",
          "height": 1969
        }
      },
      "source": [
        "df[['capital-gain','capital-loss']].drop_duplicates()"
      ],
      "execution_count": 0,
      "outputs": [
        {
          "output_type": "execute_result",
          "data": {
            "text/html": [
              "<div>\n",
              "<style scoped>\n",
              "    .dataframe tbody tr th:only-of-type {\n",
              "        vertical-align: middle;\n",
              "    }\n",
              "\n",
              "    .dataframe tbody tr th {\n",
              "        vertical-align: top;\n",
              "    }\n",
              "\n",
              "    .dataframe thead th {\n",
              "        text-align: right;\n",
              "    }\n",
              "</style>\n",
              "<table border=\"1\" class=\"dataframe\">\n",
              "  <thead>\n",
              "    <tr style=\"text-align: right;\">\n",
              "      <th></th>\n",
              "      <th>capital-gain</th>\n",
              "      <th>capital-loss</th>\n",
              "    </tr>\n",
              "  </thead>\n",
              "  <tbody>\n",
              "    <tr>\n",
              "      <th>0</th>\n",
              "      <td>2174</td>\n",
              "      <td>0</td>\n",
              "    </tr>\n",
              "    <tr>\n",
              "      <th>1</th>\n",
              "      <td>0</td>\n",
              "      <td>0</td>\n",
              "    </tr>\n",
              "    <tr>\n",
              "      <th>8</th>\n",
              "      <td>14084</td>\n",
              "      <td>0</td>\n",
              "    </tr>\n",
              "    <tr>\n",
              "      <th>9</th>\n",
              "      <td>5178</td>\n",
              "      <td>0</td>\n",
              "    </tr>\n",
              "    <tr>\n",
              "      <th>23</th>\n",
              "      <td>0</td>\n",
              "      <td>2042</td>\n",
              "    </tr>\n",
              "    <tr>\n",
              "      <th>32</th>\n",
              "      <td>0</td>\n",
              "      <td>1408</td>\n",
              "    </tr>\n",
              "    <tr>\n",
              "      <th>52</th>\n",
              "      <td>0</td>\n",
              "      <td>1902</td>\n",
              "    </tr>\n",
              "    <tr>\n",
              "      <th>59</th>\n",
              "      <td>5013</td>\n",
              "      <td>0</td>\n",
              "    </tr>\n",
              "    <tr>\n",
              "      <th>60</th>\n",
              "      <td>2407</td>\n",
              "      <td>0</td>\n",
              "    </tr>\n",
              "    <tr>\n",
              "      <th>84</th>\n",
              "      <td>14344</td>\n",
              "      <td>0</td>\n",
              "    </tr>\n",
              "    <tr>\n",
              "      <th>93</th>\n",
              "      <td>0</td>\n",
              "      <td>1573</td>\n",
              "    </tr>\n",
              "    <tr>\n",
              "      <th>101</th>\n",
              "      <td>15024</td>\n",
              "      <td>0</td>\n",
              "    </tr>\n",
              "    <tr>\n",
              "      <th>105</th>\n",
              "      <td>7688</td>\n",
              "      <td>0</td>\n",
              "    </tr>\n",
              "    <tr>\n",
              "      <th>106</th>\n",
              "      <td>34095</td>\n",
              "      <td>0</td>\n",
              "    </tr>\n",
              "    <tr>\n",
              "      <th>112</th>\n",
              "      <td>0</td>\n",
              "      <td>1887</td>\n",
              "    </tr>\n",
              "    <tr>\n",
              "      <th>113</th>\n",
              "      <td>4064</td>\n",
              "      <td>0</td>\n",
              "    </tr>\n",
              "    <tr>\n",
              "      <th>126</th>\n",
              "      <td>0</td>\n",
              "      <td>1719</td>\n",
              "    </tr>\n",
              "    <tr>\n",
              "      <th>131</th>\n",
              "      <td>0</td>\n",
              "      <td>1762</td>\n",
              "    </tr>\n",
              "    <tr>\n",
              "      <th>132</th>\n",
              "      <td>4386</td>\n",
              "      <td>0</td>\n",
              "    </tr>\n",
              "    <tr>\n",
              "      <th>143</th>\n",
              "      <td>0</td>\n",
              "      <td>1564</td>\n",
              "    </tr>\n",
              "    <tr>\n",
              "      <th>148</th>\n",
              "      <td>0</td>\n",
              "      <td>2179</td>\n",
              "    </tr>\n",
              "    <tr>\n",
              "      <th>157</th>\n",
              "      <td>0</td>\n",
              "      <td>1816</td>\n",
              "    </tr>\n",
              "    <tr>\n",
              "      <th>170</th>\n",
              "      <td>0</td>\n",
              "      <td>1980</td>\n",
              "    </tr>\n",
              "    <tr>\n",
              "      <th>172</th>\n",
              "      <td>0</td>\n",
              "      <td>1977</td>\n",
              "    </tr>\n",
              "    <tr>\n",
              "      <th>198</th>\n",
              "      <td>7298</td>\n",
              "      <td>0</td>\n",
              "    </tr>\n",
              "    <tr>\n",
              "      <th>200</th>\n",
              "      <td>0</td>\n",
              "      <td>1876</td>\n",
              "    </tr>\n",
              "    <tr>\n",
              "      <th>203</th>\n",
              "      <td>0</td>\n",
              "      <td>1340</td>\n",
              "    </tr>\n",
              "    <tr>\n",
              "      <th>222</th>\n",
              "      <td>0</td>\n",
              "      <td>2206</td>\n",
              "    </tr>\n",
              "    <tr>\n",
              "      <th>227</th>\n",
              "      <td>1409</td>\n",
              "      <td>0</td>\n",
              "    </tr>\n",
              "    <tr>\n",
              "      <th>230</th>\n",
              "      <td>3674</td>\n",
              "      <td>0</td>\n",
              "    </tr>\n",
              "    <tr>\n",
              "      <th>...</th>\n",
              "      <td>...</td>\n",
              "      <td>...</td>\n",
              "    </tr>\n",
              "    <tr>\n",
              "      <th>15625</th>\n",
              "      <td>0</td>\n",
              "      <td>2267</td>\n",
              "    </tr>\n",
              "    <tr>\n",
              "      <th>15902</th>\n",
              "      <td>0</td>\n",
              "      <td>2080</td>\n",
              "    </tr>\n",
              "    <tr>\n",
              "      <th>16856</th>\n",
              "      <td>6097</td>\n",
              "      <td>0</td>\n",
              "    </tr>\n",
              "    <tr>\n",
              "      <th>16984</th>\n",
              "      <td>2653</td>\n",
              "      <td>0</td>\n",
              "    </tr>\n",
              "    <tr>\n",
              "      <th>17266</th>\n",
              "      <td>1639</td>\n",
              "      <td>0</td>\n",
              "    </tr>\n",
              "    <tr>\n",
              "      <th>17269</th>\n",
              "      <td>0</td>\n",
              "      <td>2457</td>\n",
              "    </tr>\n",
              "    <tr>\n",
              "      <th>17609</th>\n",
              "      <td>18481</td>\n",
              "      <td>0</td>\n",
              "    </tr>\n",
              "    <tr>\n",
              "      <th>20265</th>\n",
              "      <td>0</td>\n",
              "      <td>155</td>\n",
              "    </tr>\n",
              "    <tr>\n",
              "      <th>20416</th>\n",
              "      <td>0</td>\n",
              "      <td>3900</td>\n",
              "    </tr>\n",
              "    <tr>\n",
              "      <th>20417</th>\n",
              "      <td>0</td>\n",
              "      <td>2201</td>\n",
              "    </tr>\n",
              "    <tr>\n",
              "      <th>20909</th>\n",
              "      <td>0</td>\n",
              "      <td>1944</td>\n",
              "    </tr>\n",
              "    <tr>\n",
              "      <th>21933</th>\n",
              "      <td>7978</td>\n",
              "      <td>0</td>\n",
              "    </tr>\n",
              "    <tr>\n",
              "      <th>22754</th>\n",
              "      <td>0</td>\n",
              "      <td>2467</td>\n",
              "    </tr>\n",
              "    <tr>\n",
              "      <th>24735</th>\n",
              "      <td>0</td>\n",
              "      <td>2163</td>\n",
              "    </tr>\n",
              "    <tr>\n",
              "      <th>25793</th>\n",
              "      <td>0</td>\n",
              "      <td>2754</td>\n",
              "    </tr>\n",
              "    <tr>\n",
              "      <th>28474</th>\n",
              "      <td>2387</td>\n",
              "      <td>0</td>\n",
              "    </tr>\n",
              "    <tr>\n",
              "      <th>29188</th>\n",
              "      <td>0</td>\n",
              "      <td>2472</td>\n",
              "    </tr>\n",
              "    <tr>\n",
              "      <th>30772</th>\n",
              "      <td>5060</td>\n",
              "      <td>0</td>\n",
              "    </tr>\n",
              "    <tr>\n",
              "      <th>32301</th>\n",
              "      <td>0</td>\n",
              "      <td>1411</td>\n",
              "    </tr>\n",
              "    <tr>\n",
              "      <th>32820</th>\n",
              "      <td>0</td>\n",
              "      <td>1429</td>\n",
              "    </tr>\n",
              "    <tr>\n",
              "      <th>33640</th>\n",
              "      <td>1264</td>\n",
              "      <td>0</td>\n",
              "    </tr>\n",
              "    <tr>\n",
              "      <th>35722</th>\n",
              "      <td>0</td>\n",
              "      <td>3175</td>\n",
              "    </tr>\n",
              "    <tr>\n",
              "      <th>36014</th>\n",
              "      <td>7262</td>\n",
              "      <td>0</td>\n",
              "    </tr>\n",
              "    <tr>\n",
              "      <th>36558</th>\n",
              "      <td>0</td>\n",
              "      <td>1510</td>\n",
              "    </tr>\n",
              "    <tr>\n",
              "      <th>37624</th>\n",
              "      <td>0</td>\n",
              "      <td>1870</td>\n",
              "    </tr>\n",
              "    <tr>\n",
              "      <th>37754</th>\n",
              "      <td>0</td>\n",
              "      <td>1911</td>\n",
              "    </tr>\n",
              "    <tr>\n",
              "      <th>39861</th>\n",
              "      <td>1731</td>\n",
              "      <td>0</td>\n",
              "    </tr>\n",
              "    <tr>\n",
              "      <th>41812</th>\n",
              "      <td>0</td>\n",
              "      <td>2465</td>\n",
              "    </tr>\n",
              "    <tr>\n",
              "      <th>41821</th>\n",
              "      <td>0</td>\n",
              "      <td>1421</td>\n",
              "    </tr>\n",
              "    <tr>\n",
              "      <th>45684</th>\n",
              "      <td>6612</td>\n",
              "      <td>0</td>\n",
              "    </tr>\n",
              "  </tbody>\n",
              "</table>\n",
              "<p>221 rows × 2 columns</p>\n",
              "</div>"
            ],
            "text/plain": [
              "       capital-gain  capital-loss\n",
              "0              2174             0\n",
              "1                 0             0\n",
              "8             14084             0\n",
              "9              5178             0\n",
              "23                0          2042\n",
              "32                0          1408\n",
              "52                0          1902\n",
              "59             5013             0\n",
              "60             2407             0\n",
              "84            14344             0\n",
              "93                0          1573\n",
              "101           15024             0\n",
              "105            7688             0\n",
              "106           34095             0\n",
              "112               0          1887\n",
              "113            4064             0\n",
              "126               0          1719\n",
              "131               0          1762\n",
              "132            4386             0\n",
              "143               0          1564\n",
              "148               0          2179\n",
              "157               0          1816\n",
              "170               0          1980\n",
              "172               0          1977\n",
              "198            7298             0\n",
              "200               0          1876\n",
              "203               0          1340\n",
              "222               0          2206\n",
              "227            1409             0\n",
              "230            3674             0\n",
              "...             ...           ...\n",
              "15625             0          2267\n",
              "15902             0          2080\n",
              "16856          6097             0\n",
              "16984          2653             0\n",
              "17266          1639             0\n",
              "17269             0          2457\n",
              "17609         18481             0\n",
              "20265             0           155\n",
              "20416             0          3900\n",
              "20417             0          2201\n",
              "20909             0          1944\n",
              "21933          7978             0\n",
              "22754             0          2467\n",
              "24735             0          2163\n",
              "25793             0          2754\n",
              "28474          2387             0\n",
              "29188             0          2472\n",
              "30772          5060             0\n",
              "32301             0          1411\n",
              "32820             0          1429\n",
              "33640          1264             0\n",
              "35722             0          3175\n",
              "36014          7262             0\n",
              "36558             0          1510\n",
              "37624             0          1870\n",
              "37754             0          1911\n",
              "39861          1731             0\n",
              "41812             0          2465\n",
              "41821             0          1421\n",
              "45684          6612             0\n",
              "\n",
              "[221 rows x 2 columns]"
            ]
          },
          "metadata": {
            "tags": []
          },
          "execution_count": 307
        }
      ]
    },
    {
      "cell_type": "code",
      "metadata": {
        "id": "vmQW-tngMbAE",
        "colab_type": "code",
        "outputId": "69b52aea-e755-48c6-8195-715c75de801d",
        "colab": {
          "base_uri": "https://localhost:8080/",
          "height": 34
        }
      },
      "source": [
        "df[df['capital-gain']>0].shape"
      ],
      "execution_count": 0,
      "outputs": [
        {
          "output_type": "execute_result",
          "data": {
            "text/plain": [
              "(4035, 17)"
            ]
          },
          "metadata": {
            "tags": []
          },
          "execution_count": 308
        }
      ]
    },
    {
      "cell_type": "code",
      "metadata": {
        "id": "Gdm2aAmsMdxM",
        "colab_type": "code",
        "outputId": "9322a94c-015d-476c-9df3-f9089c4c006c",
        "colab": {
          "base_uri": "https://localhost:8080/",
          "height": 34
        }
      },
      "source": [
        "df[df['capital-loss']>0].shape"
      ],
      "execution_count": 0,
      "outputs": [
        {
          "output_type": "execute_result",
          "data": {
            "text/plain": [
              "(2282, 17)"
            ]
          },
          "metadata": {
            "tags": []
          },
          "execution_count": 309
        }
      ]
    },
    {
      "cell_type": "code",
      "metadata": {
        "id": "6s8U2nn8Md6h",
        "colab_type": "code",
        "colab": {}
      },
      "source": [
        "df['capital_loss_gain'] = df['capital-gain'] - df['capital-loss']"
      ],
      "execution_count": 0,
      "outputs": []
    },
    {
      "cell_type": "code",
      "metadata": {
        "id": "MbmFYyFkMhpV",
        "colab_type": "code",
        "outputId": "f0a6e2eb-b471-490f-e762-238843fb387a",
        "colab": {
          "base_uri": "https://localhost:8080/",
          "height": 301
        }
      },
      "source": [
        "sns.boxplot(df['capital_loss_gain'])"
      ],
      "execution_count": 0,
      "outputs": [
        {
          "output_type": "execute_result",
          "data": {
            "text/plain": [
              "<matplotlib.axes._subplots.AxesSubplot at 0x7f2af896a5c0>"
            ]
          },
          "metadata": {
            "tags": []
          },
          "execution_count": 311
        },
        {
          "output_type": "display_data",
          "data": {
            "image/png": "[encoded data removed]",
            "text/plain": [
              "<Figure size 432x288 with 1 Axes>"
            ]
          },
          "metadata": {
            "tags": []
          }
        }
      ]
    },
    {
      "cell_type": "code",
      "metadata": {
        "id": "zw_DZPG3Mjg2",
        "colab_type": "code",
        "colab": {}
      },
      "source": [
        "a = np.nanpercentile(df['capital_loss_gain'],0)\n",
        "b = np.nanpercentile(df['capital_loss_gain'],2)\n",
        "c = np.nanpercentile(df['capital_loss_gain'],5)\n",
        "d = np.nanpercentile(df['capital_loss_gain'],90)\n",
        "e = np.nanpercentile(df['capital_loss_gain'],95)\n",
        "f = np.nanpercentile(df['capital_loss_gain'],100)"
      ],
      "execution_count": 0,
      "outputs": []
    },
    {
      "cell_type": "code",
      "metadata": {
        "id": "LmsNTvI3Mnga",
        "colab_type": "code",
        "colab": {}
      },
      "source": [
        "bins = [-np.inf,b,c,d,e,f,np.inf]\n",
        "labels = ['loss_2','loss_1','neutral','gain_1','gain_2']\n",
        "df['capital_category'] = pd.cut(df['capital_loss_gain'], bins=bins, labels=labels, include_lowest=True, right=False, duplicates='drop')"
      ],
      "execution_count": 0,
      "outputs": []
    },
    {
      "cell_type": "code",
      "metadata": {
        "id": "WXKhwR0pMo4L",
        "colab_type": "code",
        "outputId": "c0452803-07a0-41eb-e4c6-2657b2f45344",
        "colab": {
          "base_uri": "https://localhost:8080/",
          "height": 119
        }
      },
      "source": [
        "df['capital_category'].value_counts()"
      ],
      "execution_count": 0,
      "outputs": [
        {
          "output_type": "execute_result",
          "data": {
            "text/plain": [
              "neutral    44109\n",
              "gain_1      2207\n",
              "loss_1      1470\n",
              "loss_2       812\n",
              "gain_2       244\n",
              "Name: capital_category, dtype: int64"
            ]
          },
          "metadata": {
            "tags": []
          },
          "execution_count": 314
        }
      ]
    },
    {
      "cell_type": "markdown",
      "metadata": {
        "id": "ri4nAhQTMwcE",
        "colab_type": "text"
      },
      "source": [
        "## Age"
      ]
    },
    {
      "cell_type": "code",
      "metadata": {
        "id": "tI-6t5FlMtHn",
        "colab_type": "code",
        "colab": {}
      },
      "source": [
        "bins = [-np.inf, 20, 25, 30, 35, 40, 45, 50, 55, 60, 65, np.inf]\n",
        "labels = ['less_20','20_25','25_30','30_35','35_40','40_45','45_50','50_55','55_60','60_65','more_65']\n",
        "df['age'] = pd.cut(df['age'], bins=bins, labels=labels, include_lowest=True, right=False)"
      ],
      "execution_count": 0,
      "outputs": []
    },
    {
      "cell_type": "code",
      "metadata": {
        "id": "PPe_hApK_hNy",
        "colab_type": "code",
        "outputId": "f975ae17-79be-4360-92fc-ec9359bd7f02",
        "colab": {
          "base_uri": "https://localhost:8080/",
          "height": 119
        }
      },
      "source": [
        "df.columns"
      ],
      "execution_count": 0,
      "outputs": [
        {
          "output_type": "execute_result",
          "data": {
            "text/plain": [
              "Index(['age', 'workclass', 'fnlwgt', 'education', 'education-num',\n",
              "       'marital-status', 'occupation', 'race', 'sex', 'capital-gain',\n",
              "       'capital-loss', 'hours-per-week', 'native-country', 'income',\n",
              "       'data_category', 'income>50K', 'income<50K', 'capital_loss_gain',\n",
              "       'capital_category'],\n",
              "      dtype='object')"
            ]
          },
          "metadata": {
            "tags": []
          },
          "execution_count": 316
        }
      ]
    },
    {
      "cell_type": "code",
      "metadata": {
        "id": "V7TQi59K_8vj",
        "colab_type": "code",
        "colab": {}
      },
      "source": [
        "df.drop(['education-num','capital-gain','capital-loss','capital_loss_gain','income>50K',\n",
        "         'income<50K'],axis=1,inplace=True)"
      ],
      "execution_count": 0,
      "outputs": []
    },
    {
      "cell_type": "code",
      "metadata": {
        "id": "RwiWvyW4NOz4",
        "colab_type": "code",
        "colab": {}
      },
      "source": [
        ""
      ],
      "execution_count": 0,
      "outputs": []
    },
    {
      "cell_type": "markdown",
      "metadata": {
        "id": "_SnoD4f4zzfF",
        "colab_type": "text"
      },
      "source": [
        "# Missing values imputation"
      ]
    },
    {
      "cell_type": "markdown",
      "metadata": {
        "id": "QTjbJo4DAlVu",
        "colab_type": "text"
      },
      "source": [
        "# Total number of missing values"
      ]
    },
    {
      "cell_type": "code",
      "metadata": {
        "id": "pWR7r1H-AfeP",
        "colab_type": "code",
        "outputId": "27473b80-bbb9-49db-bea9-5e92f0d1ac7f",
        "colab": {
          "base_uri": "https://localhost:8080/",
          "height": 255
        }
      },
      "source": [
        "df.isnull().sum()"
      ],
      "execution_count": 0,
      "outputs": [
        {
          "output_type": "execute_result",
          "data": {
            "text/plain": [
              "age                    0\n",
              "workclass           2799\n",
              "fnlwgt                 0\n",
              "education              0\n",
              "marital-status         0\n",
              "occupation          2809\n",
              "race                   0\n",
              "sex                    0\n",
              "hours-per-week         0\n",
              "native-country         0\n",
              "income                 0\n",
              "data_category          0\n",
              "capital_category       0\n",
              "dtype: int64"
            ]
          },
          "metadata": {
            "tags": []
          },
          "execution_count": 318
        }
      ]
    },
    {
      "cell_type": "markdown",
      "metadata": {
        "id": "phtYL3WLAu3x",
        "colab_type": "text"
      },
      "source": [
        "## Label Encoding"
      ]
    },
    {
      "cell_type": "code",
      "metadata": {
        "id": "evmJe1CkAkXi",
        "colab_type": "code",
        "colab": {}
      },
      "source": [
        "columns_for_label_encoding = ['education','marital-status','race','sex','native-country','income','age','capital_category']\n",
        "le=LabelEncoder()\n",
        "for x in columns_for_label_encoding:\n",
        "  df[x] = le.fit_transform(df[x])\n",
        "  \n",
        "columns_for_label_encoding_missing = ['workclass','occupation']\n",
        "for x in columns_for_label_encoding_missing:\n",
        "  series = df[x].dropna().values\n",
        "  le.fit_transform(series)\n",
        "  embedding_map = dict(zip(le.classes_, le.transform(le.classes_)))\n",
        "  df[x] = df[x].map(embedding_map)\n",
        "  \n",
        "  "
      ],
      "execution_count": 0,
      "outputs": []
    },
    {
      "cell_type": "code",
      "metadata": {
        "id": "nP5prHLxBQ2Q",
        "colab_type": "code",
        "colab": {}
      },
      "source": [
        "d1=df.dropna()\n",
        "d1.drop([\"data_category\"],axis=1,inplace=True)\n",
        "d1.reset_index(drop=True,inplace=True)\n",
        "d2=d1.copy(deep=True)"
      ],
      "execution_count": 0,
      "outputs": []
    },
    {
      "cell_type": "code",
      "metadata": {
        "id": "93XQTj9PB2mB",
        "colab_type": "code",
        "colab": {}
      },
      "source": [
        ""
      ],
      "execution_count": 0,
      "outputs": []
    },
    {
      "cell_type": "markdown",
      "metadata": {
        "id": "1jjGHZo5BmxJ",
        "colab_type": "text"
      },
      "source": [
        "## Adding Random Missing Values"
      ]
    },
    {
      "cell_type": "code",
      "metadata": {
        "id": "WKtQuKwpBlIp",
        "colab_type": "code",
        "colab": {}
      },
      "source": [
        "index_work = d1.sample(200).index.values\n",
        "Occupation = d1.sample(300).index.values"
      ],
      "execution_count": 0,
      "outputs": []
    },
    {
      "cell_type": "code",
      "metadata": {
        "id": "g0N99LRLBtlv",
        "colab_type": "code",
        "colab": {}
      },
      "source": [
        "d1 = d1.set_value(index_work, 'workclass', np.NAN)\n",
        "d1 = d1.set_value(Occupation, 'occupation', np.NAN) "
      ],
      "execution_count": 0,
      "outputs": []
    },
    {
      "cell_type": "code",
      "metadata": {
        "id": "tNCTdqJ5CbU8",
        "colab_type": "code",
        "colab": {}
      },
      "source": [
        "X_filled_ii = IterativeImputer().fit_transform(d1)\n",
        "d1_filled = pd.DataFrame(X_filled_ii)\n",
        "d1_filled.columns = d1.columns"
      ],
      "execution_count": 0,
      "outputs": []
    },
    {
      "cell_type": "code",
      "metadata": {
        "id": "a09MykYMCX_6",
        "colab_type": "code",
        "outputId": "d815465e-41fc-4265-85ac-e7a71d7225c6",
        "colab": {
          "base_uri": "https://localhost:8080/",
          "height": 34
        }
      },
      "source": [
        "d1_filled.workclass=d1_filled.workclass.apply(lambda x: math.floor(x))\n",
        "pd.unique(d1_filled.workclass)"
      ],
      "execution_count": 0,
      "outputs": [
        {
          "output_type": "execute_result",
          "data": {
            "text/plain": [
              "array([5, 3, 1, 0, 2, 4])"
            ]
          },
          "metadata": {
            "tags": []
          },
          "execution_count": 334
        }
      ]
    },
    {
      "cell_type": "markdown",
      "metadata": {
        "id": "ZtRBN1hnCz82",
        "colab_type": "text"
      },
      "source": [
        "## Comparing Results"
      ]
    },
    {
      "cell_type": "code",
      "metadata": {
        "id": "wDMlAhxDCuuN",
        "colab_type": "code",
        "outputId": "a22f0b92-cd4b-4aa9-f80f-225b71c8f99d",
        "colab": {
          "base_uri": "https://localhost:8080/",
          "height": 34
        }
      },
      "source": [
        "def comparer(v1,v2):\n",
        "  if v1==v2:\n",
        "    return 1\n",
        "  else:\n",
        "    return 0\n",
        "\n",
        "d1_filled=d1_filled[d1_filled.index.isin(index_work)]\n",
        "d1_original = d2[d2.index.isin(index_work)]\n",
        "\n",
        "compare = pd.DataFrame({\"Actuals\":d1_original.workclass,\"Imputed\":d1_filled.workclass})\n",
        "\n",
        "compare.apply(lambda x: comparer(x.Actuals,x.Imputed),axis=1).sum()/200"
      ],
      "execution_count": 0,
      "outputs": [
        {
          "output_type": "execute_result",
          "data": {
            "text/plain": [
              "0.735"
            ]
          },
          "metadata": {
            "tags": []
          },
          "execution_count": 335
        }
      ]
    },
    {
      "cell_type": "markdown",
      "metadata": {
        "id": "tHndI9zmDIou",
        "colab_type": "text"
      },
      "source": [
        "## Applying on original data frame"
      ]
    },
    {
      "cell_type": "code",
      "metadata": {
        "id": "UBmCPP_XDDVF",
        "colab_type": "code",
        "colab": {}
      },
      "source": [
        "df2 = df.drop(['data_category'],axis=1)\n",
        "\n",
        "X_filled_ii = IterativeImputer().fit_transform(df2)\n",
        "\n",
        "d1_filled = pd.DataFrame(X_filled_ii)\n",
        "d1_filled.columns = d1.columns\n",
        "\n",
        "d1_filled.workclass=d1_filled.workclass.apply(lambda x: math.floor(x))\n",
        "d1_filled.occupation=d1_filled.occupation.apply(lambda x: math.floor(x))"
      ],
      "execution_count": 0,
      "outputs": []
    },
    {
      "cell_type": "code",
      "metadata": {
        "id": "LOQXzbpBDxVR",
        "colab_type": "code",
        "colab": {}
      },
      "source": [
        "d1_filled['data_category'] = df['data_category']"
      ],
      "execution_count": 0,
      "outputs": []
    },
    {
      "cell_type": "code",
      "metadata": {
        "id": "Ba4DUxjmEpxe",
        "colab_type": "code",
        "outputId": "8367003e-042d-4bd6-cb2c-23c906662998",
        "colab": {
          "base_uri": "https://localhost:8080/",
          "height": 255
        }
      },
      "source": [
        "d1_filled.isnull().sum()"
      ],
      "execution_count": 0,
      "outputs": [
        {
          "output_type": "execute_result",
          "data": {
            "text/plain": [
              "age                 0\n",
              "workclass           0\n",
              "fnlwgt              0\n",
              "education           0\n",
              "marital-status      0\n",
              "occupation          0\n",
              "race                0\n",
              "sex                 0\n",
              "hours-per-week      0\n",
              "native-country      0\n",
              "income              0\n",
              "capital_category    0\n",
              "data_category       0\n",
              "dtype: int64"
            ]
          },
          "metadata": {
            "tags": []
          },
          "execution_count": 338
        }
      ]
    },
    {
      "cell_type": "markdown",
      "metadata": {
        "id": "z9c956iRz-yc",
        "colab_type": "text"
      },
      "source": [
        "# Classification Models"
      ]
    },
    {
      "cell_type": "markdown",
      "metadata": {
        "id": "OZAmdUIuE613",
        "colab_type": "text"
      },
      "source": [
        "## Model building Desicion tree, RF Tree, Extra Trees, XG BOOST, GBM, LGBM, Voting classifier, recursive feature engineering Grid search and Random Search "
      ]
    },
    {
      "cell_type": "code",
      "metadata": {
        "id": "ptOfqiuaE2Z-",
        "colab_type": "code",
        "colab": {}
      },
      "source": [
        " \n",
        "from sklearn.tree import DecisionTreeClassifier\n",
        "from sklearn.ensemble import RandomForestClassifier\n",
        "from sklearn.ensemble import ExtraTreesClassifier\n",
        "from xgboost import XGBClassifier\n",
        "from sklearn.ensemble import GradientBoostingClassifier\n",
        "from lightgbm import LGBMClassifier\n",
        "from sklearn.model_selection import train_test_split\n",
        "from sklearn.ensemble import VotingClassifier"
      ],
      "execution_count": 0,
      "outputs": []
    },
    {
      "cell_type": "code",
      "metadata": {
        "id": "4d4-i94DE2gq",
        "colab_type": "code",
        "colab": {}
      },
      "source": [
        "# Metrics \n",
        "from sklearn.metrics import accuracy_score\n",
        "from sklearn.metrics import confusion_matrix\n",
        "from sklearn.metrics import precision_score\n",
        "from sklearn.metrics import recall_score"
      ],
      "execution_count": 0,
      "outputs": []
    },
    {
      "cell_type": "markdown",
      "metadata": {
        "id": "CzHhuQjiFI-k",
        "colab_type": "text"
      },
      "source": [
        "## Metric Builder"
      ]
    },
    {
      "cell_type": "code",
      "metadata": {
        "id": "AafU2407E2l0",
        "colab_type": "code",
        "colab": {}
      },
      "source": [
        "def metric_builder(y_pred,y_test):\n",
        "  print(\"Confusion Matrix\")\n",
        "  print(confusion_matrix(y_pred,y_test))\n",
        "  print(\"Metrics\")\n",
        "  print(\"Accuracy\",accuracy_score(y_pred,y_test))\n",
        "  print(\"precision_score\",precision_score(y_pred,y_test))\n",
        "  print(\"recall_score\",recall_score(y_pred,y_test))"
      ],
      "execution_count": 0,
      "outputs": []
    },
    {
      "cell_type": "code",
      "metadata": {
        "id": "KB5bIJJsFTPl",
        "colab_type": "code",
        "colab": {}
      },
      "source": [
        "d2 = d1_filled.drop(\"data_category\",axis=1)"
      ],
      "execution_count": 0,
      "outputs": []
    },
    {
      "cell_type": "code",
      "metadata": {
        "id": "3EnrwDvmE2jv",
        "colab_type": "code",
        "colab": {}
      },
      "source": [
        "X= d2.drop(['income'],axis=1)\n",
        "Y= d2[['income']]"
      ],
      "execution_count": 0,
      "outputs": []
    },
    {
      "cell_type": "code",
      "metadata": {
        "id": "iwKXmormE2fH",
        "colab_type": "code",
        "colab": {}
      },
      "source": [
        "X_train,X_test,y_train,y_test=train_test_split(X,Y,test_size=0.4,random_state=31)"
      ],
      "execution_count": 0,
      "outputs": []
    },
    {
      "cell_type": "markdown",
      "metadata": {
        "id": "9EJw5C3xF3W0",
        "colab_type": "text"
      },
      "source": [
        "## Model object"
      ]
    },
    {
      "cell_type": "code",
      "metadata": {
        "id": "KYozjeIME2cv",
        "colab_type": "code",
        "colab": {}
      },
      "source": [
        "dst = DecisionTreeClassifier()\n",
        "rf = RandomForestClassifier()\n",
        "ext = ExtraTreesClassifier()\n",
        "xgb = XGBClassifier()\n",
        "gbm = GradientBoostingClassifier()\n",
        "lgb = LGBMClassifier()\n",
        "# vc = VotingClassifier()"
      ],
      "execution_count": 0,
      "outputs": []
    },
    {
      "cell_type": "markdown",
      "metadata": {
        "id": "2xVufchzGlvH",
        "colab_type": "text"
      },
      "source": [
        "## DecisionTree"
      ]
    },
    {
      "cell_type": "code",
      "metadata": {
        "id": "LmRQL5XnF8zH",
        "colab_type": "code",
        "outputId": "1de28ac7-4533-40d0-c8fa-dcce0a0ec91e",
        "colab": {
          "base_uri": "https://localhost:8080/",
          "height": 136
        }
      },
      "source": [
        "dst.fit(X_train,y_train)\n",
        "y_pred = dst.predict(X_test)\n",
        "metric_builder(y_pred,y_test)"
      ],
      "execution_count": 0,
      "outputs": [
        {
          "output_type": "stream",
          "text": [
            "Confusion Matrix\n",
            "[[12841  1962]\n",
            " [ 1965  2769]]\n",
            "Metrics\n",
            "Accuracy 0.7989967753493371\n",
            "precision_score 0.585288522511097\n",
            "recall_score 0.5849176172370089\n"
          ],
          "name": "stdout"
        }
      ]
    },
    {
      "cell_type": "markdown",
      "metadata": {
        "id": "58puH3HTGSCs",
        "colab_type": "text"
      },
      "source": [
        "## Precision"
      ]
    },
    {
      "cell_type": "code",
      "metadata": {
        "id": "IAg_r3DTGHMW",
        "colab_type": "code",
        "outputId": "32c1ef89-1cfc-4f9b-c552-20139a37f6e8",
        "colab": {
          "base_uri": "https://localhost:8080/",
          "height": 34
        }
      },
      "source": [
        "\n",
        "2536/(2536+2195)"
      ],
      "execution_count": 0,
      "outputs": [
        {
          "output_type": "execute_result",
          "data": {
            "text/plain": [
              "0.5360388924117523"
            ]
          },
          "metadata": {
            "tags": []
          },
          "execution_count": 347
        }
      ]
    },
    {
      "cell_type": "markdown",
      "metadata": {
        "id": "S-b1DNUwF2st",
        "colab_type": "text"
      },
      "source": [
        "## Recall\n",
        "\n"
      ]
    },
    {
      "cell_type": "code",
      "metadata": {
        "id": "_N7r3_rZGbUQ",
        "colab_type": "code",
        "outputId": "74eb34d6-b3bf-4d1b-dcfb-a20227a82393",
        "colab": {
          "base_uri": "https://localhost:8080/",
          "height": 34
        }
      },
      "source": [
        "2536/(2020+2536)"
      ],
      "execution_count": 0,
      "outputs": [
        {
          "output_type": "execute_result",
          "data": {
            "text/plain": [
              "0.5566286215978928"
            ]
          },
          "metadata": {
            "tags": []
          },
          "execution_count": 348
        }
      ]
    },
    {
      "cell_type": "markdown",
      "metadata": {
        "id": "VJGaA2ivGtRa",
        "colab_type": "text"
      },
      "source": [
        "## RandomForest"
      ]
    },
    {
      "cell_type": "code",
      "metadata": {
        "id": "24QBemZjGkGD",
        "colab_type": "code",
        "outputId": "43ffe0bc-f942-4090-c9bf-e3594fec4a38",
        "colab": {
          "base_uri": "https://localhost:8080/",
          "height": 136
        }
      },
      "source": [
        "rf.fit(X_train,y_train)\n",
        "y_pred = rf.predict(X_test)\n",
        "metric_builder(y_pred,y_test)"
      ],
      "execution_count": 0,
      "outputs": [
        {
          "output_type": "stream",
          "text": [
            "Confusion Matrix\n",
            "[[13661  2070]\n",
            " [ 1145  2661]]\n",
            "Metrics\n",
            "Accuracy 0.8354404463325997\n",
            "precision_score 0.5624603677869372\n",
            "recall_score 0.6991592222806096\n"
          ],
          "name": "stdout"
        }
      ]
    },
    {
      "cell_type": "markdown",
      "metadata": {
        "id": "BrDZkgrjG2zC",
        "colab_type": "text"
      },
      "source": [
        "## ExtraTrees"
      ]
    },
    {
      "cell_type": "code",
      "metadata": {
        "id": "LE_Yw-zyG2BE",
        "colab_type": "code",
        "outputId": "404adfca-80a1-40d9-8f51-01a9ac2a6e0e",
        "colab": {
          "base_uri": "https://localhost:8080/",
          "height": 136
        }
      },
      "source": [
        "ext.fit(X_train,y_train)\n",
        "y_pred = ext.predict(X_test)\n",
        "metric_builder(y_pred,y_test)"
      ],
      "execution_count": 0,
      "outputs": [
        {
          "output_type": "stream",
          "text": [
            "Confusion Matrix\n",
            "[[13504  1992]\n",
            " [ 1302  2739]]\n",
            "Metrics\n",
            "Accuracy 0.8313968367712545\n",
            "precision_score 0.5789473684210527\n",
            "recall_score 0.6778025241276912\n"
          ],
          "name": "stdout"
        }
      ]
    },
    {
      "cell_type": "markdown",
      "metadata": {
        "id": "4PH5sROEHF3o",
        "colab_type": "text"
      },
      "source": [
        "## XGBClassifier"
      ]
    },
    {
      "cell_type": "code",
      "metadata": {
        "id": "iVSgb9r3GkI2",
        "colab_type": "code",
        "outputId": "f6e9a389-a1d1-4cdd-b0c8-8b1799c76eca",
        "colab": {
          "base_uri": "https://localhost:8080/",
          "height": 136
        }
      },
      "source": [
        "xgb.fit(X_train,y_train)\n",
        "y_pred = xgb.predict(X_test)\n",
        "metric_builder(y_pred,y_test)"
      ],
      "execution_count": 0,
      "outputs": [
        {
          "output_type": "stream",
          "text": [
            "Confusion Matrix\n",
            "[[13877  1914]\n",
            " [  929  2817]]\n",
            "Metrics\n",
            "Accuracy 0.8544812407227312\n",
            "precision_score 0.595434369055168\n",
            "recall_score 0.7520021356113188\n"
          ],
          "name": "stdout"
        }
      ]
    },
    {
      "cell_type": "markdown",
      "metadata": {
        "id": "LfCnUa4LHSib",
        "colab_type": "text"
      },
      "source": [
        "## GradientBoostingClassifier"
      ]
    },
    {
      "cell_type": "code",
      "metadata": {
        "id": "RwtOPa-SHR1Y",
        "colab_type": "code",
        "outputId": "f4851fa2-1a55-4fcd-8470-b7716c29f63f",
        "colab": {
          "base_uri": "https://localhost:8080/",
          "height": 136
        }
      },
      "source": [
        "gbm.fit(X_train,y_train)\n",
        "y_pred = gbm.predict(X_test)\n",
        "metric_builder(y_pred,y_test)"
      ],
      "execution_count": 0,
      "outputs": [
        {
          "output_type": "stream",
          "text": [
            "Confusion Matrix\n",
            "[[13871  1907]\n",
            " [  935  2824]]\n",
            "Metrics\n",
            "Accuracy 0.8545324256538875\n",
            "precision_score 0.5969139716761784\n",
            "recall_score 0.7512636339451982\n"
          ],
          "name": "stdout"
        }
      ]
    },
    {
      "cell_type": "markdown",
      "metadata": {
        "id": "pO04zsqvHjCN",
        "colab_type": "text"
      },
      "source": [
        "## LGBMClassifier"
      ]
    },
    {
      "cell_type": "code",
      "metadata": {
        "id": "Sb23d_KBHE7M",
        "colab_type": "code",
        "outputId": "d29b94a9-7fdb-4af7-b931-f4c652ec6604",
        "colab": {
          "base_uri": "https://localhost:8080/",
          "height": 136
        }
      },
      "source": [
        "lgb.fit(X_train,y_train)\n",
        "y_pred = lgb.predict(X_test)\n",
        "metric_builder(y_pred,y_test)"
      ],
      "execution_count": 0,
      "outputs": [
        {
          "output_type": "stream",
          "text": [
            "Confusion Matrix\n",
            "[[13770  1786]\n",
            " [ 1036  2945]]\n",
            "Metrics\n",
            "Accuracy 0.8555561242770129\n",
            "precision_score 0.6224899598393574\n",
            "recall_score 0.7397638784225069\n"
          ],
          "name": "stdout"
        }
      ]
    },
    {
      "cell_type": "markdown",
      "metadata": {
        "id": "pgW9BRCXHtya",
        "colab_type": "text"
      },
      "source": [
        "## VotingClassifier"
      ]
    },
    {
      "cell_type": "code",
      "metadata": {
        "id": "wz4k8cQPHtPQ",
        "colab_type": "code",
        "outputId": "fba01394-2026-4623-922b-2b5e4cea54da",
        "colab": {
          "base_uri": "https://localhost:8080/",
          "height": 136
        }
      },
      "source": [
        "vc = VotingClassifier(estimators=[('clf1',lgb),('clf2',gbm),('clf3',xgb),('clf4',rf),('clf5',ext)])\n",
        "vc.fit(X_train,y_train)\n",
        "y_pred = vc.predict(X_test)\n",
        "metric_builder(y_pred,y_test)"
      ],
      "execution_count": 0,
      "outputs": [
        {
          "output_type": "stream",
          "text": [
            "Confusion Matrix\n",
            "[[13880  1882]\n",
            " [  926  2849]]\n",
            "Metrics\n",
            "Accuracy 0.8562727133132005\n",
            "precision_score 0.6021982667512153\n",
            "recall_score 0.7547019867549669\n"
          ],
          "name": "stdout"
        }
      ]
    },
    {
      "cell_type": "markdown",
      "metadata": {
        "id": "0mm9-zSMH-g1",
        "colab_type": "text"
      },
      "source": [
        "## Feature Importance"
      ]
    },
    {
      "cell_type": "code",
      "metadata": {
        "id": "DaTcowlrHFAN",
        "colab_type": "code",
        "outputId": "91c64a89-55ad-4d98-a1e6-2a258e16e28d",
        "colab": {
          "base_uri": "https://localhost:8080/",
          "height": 312
        }
      },
      "source": [
        "features=X_train.columns\n",
        "importances = rf.feature_importances_\n",
        "indices = np.argsort(importances)\n",
        "\n",
        "plt.figure(1)\n",
        "plt.title('Feature Importances')\n",
        "plt.barh(range(len(indices)), importances[indices], color='b', align='center')\n",
        "plt.yticks(range(len(indices)), features[indices])\n",
        "plt.xlabel('Relative Importance')\n"
      ],
      "execution_count": 0,
      "outputs": [
        {
          "output_type": "execute_result",
          "data": {
            "text/plain": [
              "Text(0.5, 0, 'Relative Importance')"
            ]
          },
          "metadata": {
            "tags": []
          },
          "execution_count": 355
        },
        {
          "output_type": "display_data",
          "data": {
            "image/png": "[encoded data removed]",
            "text/plain": [
              "<Figure size 432x288 with 1 Axes>"
            ]
          },
          "metadata": {
            "tags": []
          }
        }
      ]
    },
    {
      "cell_type": "markdown",
      "metadata": {
        "id": "XbWfVMGL0HWi",
        "colab_type": "text"
      },
      "source": [
        "# Feature Elimination using Recursive Feature elimintaion"
      ]
    },
    {
      "cell_type": "code",
      "metadata": {
        "id": "KhPCP8yEINrn",
        "colab_type": "code",
        "colab": {}
      },
      "source": [
        "from sklearn.feature_selection import RFECV"
      ],
      "execution_count": 0,
      "outputs": []
    },
    {
      "cell_type": "code",
      "metadata": {
        "id": "5SDapGd1II9S",
        "colab_type": "code",
        "outputId": "dfa8bc87-ec9b-4d62-8d72-f2003e9be172",
        "colab": {
          "base_uri": "https://localhost:8080/",
          "height": 221
        }
      },
      "source": [
        "RFE=RFECV(rf,step=3,cv=5,n_jobs=7)\n",
        "RFE.fit(X=X_train,y=y_train)"
      ],
      "execution_count": 0,
      "outputs": [
        {
          "output_type": "execute_result",
          "data": {
            "text/plain": [
              "RFECV(cv=5,\n",
              "      estimator=RandomForestClassifier(bootstrap=True, class_weight=None,\n",
              "                                       criterion='gini', max_depth=None,\n",
              "                                       max_features='auto', max_leaf_nodes=None,\n",
              "                                       min_impurity_decrease=0.0,\n",
              "                                       min_impurity_split=None,\n",
              "                                       min_samples_leaf=1, min_samples_split=2,\n",
              "                                       min_weight_fraction_leaf=0.0,\n",
              "                                       n_estimators=10, n_jobs=None,\n",
              "                                       oob_score=False, random_state=None,\n",
              "                                       verbose=0, warm_start=False),\n",
              "      min_features_to_select=1, n_jobs=7, scoring=None, step=3, verbose=0)"
            ]
          },
          "metadata": {
            "tags": []
          },
          "execution_count": 357
        }
      ]
    },
    {
      "cell_type": "code",
      "metadata": {
        "id": "C5GsJP4XISGJ",
        "colab_type": "code",
        "outputId": "8c26d6cd-3532-4d0c-9473-457daf403944",
        "colab": {
          "base_uri": "https://localhost:8080/",
          "height": 51
        }
      },
      "source": [
        "RFE.support_"
      ],
      "execution_count": 0,
      "outputs": [
        {
          "output_type": "execute_result",
          "data": {
            "text/plain": [
              "array([ True,  True,  True,  True,  True,  True,  True,  True,  True,\n",
              "        True,  True])"
            ]
          },
          "metadata": {
            "tags": []
          },
          "execution_count": 358
        }
      ]
    },
    {
      "cell_type": "code",
      "metadata": {
        "id": "wljLPDv6IZDX",
        "colab_type": "code",
        "outputId": "fc1f8b29-17f8-4f21-fb21-a1bed8f22ac3",
        "colab": {
          "base_uri": "https://localhost:8080/",
          "height": 204
        }
      },
      "source": [
        "dict(zip(df.columns,RFE.support_))"
      ],
      "execution_count": 0,
      "outputs": [
        {
          "output_type": "execute_result",
          "data": {
            "text/plain": [
              "{'age': True,\n",
              " 'education': True,\n",
              " 'fnlwgt': True,\n",
              " 'hours-per-week': True,\n",
              " 'income': True,\n",
              " 'marital-status': True,\n",
              " 'native-country': True,\n",
              " 'occupation': True,\n",
              " 'race': True,\n",
              " 'sex': True,\n",
              " 'workclass': True}"
            ]
          },
          "metadata": {
            "tags": []
          },
          "execution_count": 359
        }
      ]
    },
    {
      "cell_type": "markdown",
      "metadata": {
        "id": "4tbU8E3w0krD",
        "colab_type": "text"
      },
      "source": [
        "# Parameter Tunning using Grid search and Random search"
      ]
    },
    {
      "cell_type": "code",
      "metadata": {
        "id": "X5EuKPurIhsi",
        "colab_type": "code",
        "colab": {}
      },
      "source": [
        "from sklearn.model_selection import GridSearchCV\n",
        "from sklearn.model_selection import RandomizedSearchCV"
      ],
      "execution_count": 0,
      "outputs": []
    },
    {
      "cell_type": "code",
      "metadata": {
        "id": "qVddSQzgzCcR",
        "colab_type": "code",
        "colab": {}
      },
      "source": [
        "params = {\"max_depth\":[2,4,6,7],'n_estimators':[200,300,400],\"max_leaf_nodes\":[5,6,10]}"
      ],
      "execution_count": 0,
      "outputs": []
    },
    {
      "cell_type": "code",
      "metadata": {
        "id": "sB2CSROFIfZP",
        "colab_type": "code",
        "colab": {}
      },
      "source": [
        "GSCV = GridSearchCV(rf,param_grid=params,scoring=\"accuracy\",cv=3)"
      ],
      "execution_count": 0,
      "outputs": []
    },
    {
      "cell_type": "code",
      "metadata": {
        "id": "2D0bOQi9Il-M",
        "colab_type": "code",
        "colab": {}
      },
      "source": [
        "GSCV.fit(X_train,y_train)"
      ],
      "execution_count": 0,
      "outputs": []
    },
    {
      "cell_type": "code",
      "metadata": {
        "id": "cWba2o9vIpbM",
        "colab_type": "code",
        "colab": {}
      },
      "source": [
        "GSCV.best_estimator_"
      ],
      "execution_count": 0,
      "outputs": []
    },
    {
      "cell_type": "code",
      "metadata": {
        "id": "TcV9kkdiIraY",
        "colab_type": "code",
        "colab": {}
      },
      "source": [
        "GSCV.best_estimator_.fit(X_train,y_train)\n",
        "metric_builder(y_pred,y_test)"
      ],
      "execution_count": 0,
      "outputs": []
    },
    {
      "cell_type": "code",
      "metadata": {
        "id": "V0Ry96NTIsnE",
        "colab_type": "code",
        "colab": {}
      },
      "source": [
        "RSE= RandomizedSearchCV(rf,param_distributions=params,error_score=\"accuracy\",cv=3)"
      ],
      "execution_count": 0,
      "outputs": []
    },
    {
      "cell_type": "code",
      "metadata": {
        "id": "fSPUbR-VI1NJ",
        "colab_type": "code",
        "colab": {}
      },
      "source": [
        "RSE.fit(X_train,y_train)"
      ],
      "execution_count": 0,
      "outputs": []
    },
    {
      "cell_type": "code",
      "metadata": {
        "id": "_J2jWGbnI2Z6",
        "colab_type": "code",
        "colab": {}
      },
      "source": [
        "RSE.best_estimator_"
      ],
      "execution_count": 0,
      "outputs": []
    },
    {
      "cell_type": "code",
      "metadata": {
        "id": "eChj1z5EI32g",
        "colab_type": "code",
        "colab": {}
      },
      "source": [
        "RSE.best_estimator_.fit(X_train,y_train)"
      ],
      "execution_count": 0,
      "outputs": []
    },
    {
      "cell_type": "code",
      "metadata": {
        "id": "_hyFvbSoI5Qg",
        "colab_type": "code",
        "colab": {}
      },
      "source": [
        "y_pred=RSE.best_estimator_.predict(X_test)"
      ],
      "execution_count": 0,
      "outputs": []
    },
    {
      "cell_type": "code",
      "metadata": {
        "id": "3DH104NUI64i",
        "colab_type": "code",
        "colab": {}
      },
      "source": [
        "metric_builder(y_pred,y_test)"
      ],
      "execution_count": 0,
      "outputs": []
    },
    {
      "cell_type": "code",
      "metadata": {
        "id": "PmV1lrpZJAxS",
        "colab_type": "code",
        "colab": {}
      },
      "source": [
        ""
      ],
      "execution_count": 0,
      "outputs": []
    }
  ]
}